{
 "cells": [
  {
   "cell_type": "code",
   "execution_count": 2,
   "metadata": {},
   "outputs": [],
   "source": [
    "import os\n",
    "\n",
    "from openai import OpenAI\n",
    "from datasets import load_dataset\n",
    "\n",
    "import verifiers as vf"
   ]
  },
  {
   "cell_type": "code",
   "execution_count": 3,
   "metadata": {},
   "outputs": [],
   "source": [
    "api = \"openai\"\n",
    "num_samples = 10\n",
    "max_tokens = 500\n",
    "# collect V3/R1 rollouts from API\n",
    "if api == \"deepseek\":\n",
    "    base_url = \"https://api.deepseek.com\"\n",
    "    api_key = os.getenv(\"DEEPSEEK_API_KEY\")\n",
    "    model_name = \"deepseek-chat\" # DeepSeek V3-0324\n",
    "    client = OpenAI(base_url=base_url, api_key=api_key)\n",
    "elif api == \"openai\":\n",
    "    # just for testing :) not for distillation :)\n",
    "    api_key = os.getenv(\"OPENAI_API_KEY\")\n",
    "    model_name = \"gpt-4.1\" \n",
    "    client = OpenAI(api_key=api_key)\n",
    "else:\n",
    "    raise ValueError(f\"Invalid API: {api}\")\n",
    "sampling_args = {\n",
    "    \"max_tokens\": max_tokens,\n",
    "    \"temperature\": 0.7,\n",
    "}\n"
   ]
  },
  {
   "cell_type": "code",
   "execution_count": null,
   "metadata": {},
   "outputs": [],
   "source": [
    "dataset = load_dataset('agentlans/wikipedia-paragraphs', split='train')\n",
    "dataset = dataset.map(lambda x: {'question': x['text'], 'answer': x['text']})\n",
    "\n",
    "parser = vf.XMLParser(['think', 'answer'], answer_field=\"answer\")\n",
    "system_prompt = f\"\"\"Respond in the following format:\n",
    "{parser.get_format_str()}\n",
    "\n",
    "Summarize the given text in 3 sentences.\"\"\"\n",
    "\n",
    "def sentence_reward_func(completion, **kwargs) -> float:\n",
    "    \"\"\"\n",
    "    Count the number of sentences in the completion.\n",
    "    \"\"\"\n",
    "    response = parser.parse_answer(completion) or ''\n",
    "    return 1.0 if len(response.split('.')) == 3 else 0.0\n",
    "\n",
    "def lcs_reward_func(completion, answer, **kwargs) -> float:\n",
    "    \"\"\"\n",
    "    LCS ratio of the prompt and the parsed completion.    \n",
    "    \"\"\"\n",
    "    def lcs_ratio(x: str, y: str) -> float:\n",
    "        \"\"\"\n",
    "        Return the longest common subsequence ratio of x and y.\n",
    "        \"\"\"\n",
    "        from difflib import SequenceMatcher\n",
    "        return SequenceMatcher(None, x, y).ratio()\n",
    "    response = parser.parse_answer(completion) or ''\n",
    "    return lcs_ratio(response, answer)\n",
    "\n",
    "rubric = vf.Rubric(funcs=[\n",
    "    sentence_reward_func,\n",
    "    lcs_reward_func,\n",
    "    parser.get_format_reward_func(),\n",
    "], weights=[1.0, 0.2, 0.2])\n",
    "judge_prompt = \"\"\"\n",
    "Is this a good summary?\n",
    "\n",
    "Original text:\n",
    "{answer}\n",
    "\n",
    "Summary:\n",
    "{response}\n",
    "\"\"\"\n",
    "judge_rubric = vf.JudgeRubric(judge_prompt=judge_prompt)\n",
    "rubric_group = vf.RubricGroup([rubric, judge_rubric])\n",
    "\n",
    "vf_env = vf.SingleTurnEnv(\n",
    "    eval_dataset=dataset,\n",
    "    system_prompt=system_prompt,\n",
    "    parser=parser,\n",
    "    rubric=rubric_group,\n",
    "    max_concurrent=10\n",
    ")"
   ]
  },
  {
   "cell_type": "code",
   "execution_count": 4,
   "metadata": {},
   "outputs": [
    {
     "name": "stderr",
     "output_type": "stream",
     "text": [
      "Setting TOKENIZERS_PARALLELISM=false for forked processes.\n"
     ]
    },
    {
     "data": {
      "application/vnd.jupyter.widget-view+json": {
       "model_id": "480f6384e9bc4535836d987d15db2170",
       "version_major": 2,
       "version_minor": 0
      },
      "text/plain": [
       "Map (num_proc=32):   0%|          | 0/1000 [00:00<?, ? examples/s]"
      ]
     },
     "metadata": {},
     "output_type": "display_data"
    },
    {
     "name": "stderr",
     "output_type": "stream",
     "text": [
      "Setting TOKENIZERS_PARALLELISM=false for forked processes.\n"
     ]
    },
    {
     "data": {
      "application/vnd.jupyter.widget-view+json": {
       "model_id": "85158447f6bd45099c2e8c2af3f71993",
       "version_major": 2,
       "version_minor": 0
      },
      "text/plain": [
       "Map (num_proc=32):   0%|          | 0/100 [00:00<?, ? examples/s]"
      ]
     },
     "metadata": {},
     "output_type": "display_data"
    },
    {
     "name": "stdout",
     "output_type": "stream",
     "text": [
      "Running rollouts\n"
     ]
    },
    {
     "name": "stderr",
     "output_type": "stream",
     "text": [
      "Running 10 rollouts: 100%|██████████| 10/10 [00:06<00:00,  1.49it/s]\n"
     ]
    },
    {
     "name": "stdout",
     "output_type": "stream",
     "text": [
      "Rollouts done: 10\n"
     ]
    },
    {
     "name": "stderr",
     "output_type": "stream",
     "text": [
      "Evaluating 10 rollouts: 100%|██████████| 10/10 [00:00<00:00, 2228.41it/s]\n"
     ]
    },
    {
     "data": {
      "text/plain": [
       "{'question': ['Your task is to count how many legs there are in total when given a list of animals.\\n\\nNow, how many legs are there in total if you have 7 dogs, 5 butterflys, 13 flatworms, 3 ants, 8 starfishs, 8 spiders?\\n',\n",
       "  'Your task is to count how many legs there are in total when given a list of animals.\\n\\nNow, how many legs are there in total if you have 5 insects, 12 fireflys, 3 giraffes, 13 elephants, 12 jellyfishs, 4 woodlouses, 8 ants, 12 praying mantiss?\\n',\n",
       "  'Your task is to count how many legs there are in total when given a list of animals.\\n\\nNow, how many legs are there in total if you have 3 butterflys, 9 cockroachs, 4 shrimps, 8 jellyfishs, 9 lions, 1 dog?\\n',\n",
       "  'Your task is to count how many legs there are in total when given a list of animals.\\n\\nNow, how many legs are there in total if you have 13 crickets, 2 praying mantiss, 8 fireflys?\\n',\n",
       "  'Your task is to count how many legs there are in total when given a list of animals.\\n\\nNow, how many legs are there in total if you have 14 spiders, 13 chickens, 11 beetles, 13 lobsters, 3 horses, 13 dogs, 2 crickets, 5 grasshoppers, 5 praying mantiss, 4 sea slugs?\\n',\n",
       "  'Your task is to count how many legs there are in total when given a list of animals.\\n\\nNow, how many legs are there in total if you have 8 tigers, 3 bees, 6 praying mantiss, 9 wasps?\\n',\n",
       "  'Your task is to count how many legs there are in total when given a list of animals.\\n\\nNow, how many legs are there in total if you have 7 deers, 15 cats, 2 lions, 8 flatworms, 7 leechs, 4 starfishs, 2 birds?\\n',\n",
       "  'Your task is to count how many legs there are in total when given a list of animals.\\n\\nNow, how many legs are there in total if you have 5 flatworms, 2 giraffes, 4 fireflys, 15 ants, 4 tigers, 1 cow, 6 sea slugs, 11 snakes, 11 jellyfishs, 14 woodlouses?\\n',\n",
       "  'Your task is to count how many legs there are in total when given a list of animals.\\n\\nNow, how many legs are there in total if you have 1 grasshopper, 14 cockroachs, 7 butterflys, 7 chickens, 9 flatworms, 6 cats, 10 lions, 7 bees?\\n',\n",
       "  'Your task is to count how many legs there are in total when given a list of animals.\\n\\nNow, how many legs are there in total if you have 13 humans, 11 deers, 3 fireflys?\\n'],\n",
       " 'answer': [1000, 1001, 1002, 1003, 1004, 1005, 1006, 1007, 1008, 1009],\n",
       " 'task': ['leg_counting',\n",
       "  'leg_counting',\n",
       "  'leg_counting',\n",
       "  'leg_counting',\n",
       "  'leg_counting',\n",
       "  'leg_counting',\n",
       "  'leg_counting',\n",
       "  'leg_counting',\n",
       "  'leg_counting',\n",
       "  'leg_counting'],\n",
       " 'prompt': [[{'content': 'A conversation between User and Assistant. The user asks a question, and the Assistant solves it.\\nThe assistant first thinks about the reasoning process in the mind and then provides the user with the answer. The reasoning process and answer are enclosed within <think> </think> and <answer> </answer> tags, respectively, i.e., <think> reasoning process here </think>\\n<answer>answer here</answer>\\nDo not explain your reasoning inside the answer tags, provide only the final answer. When an example is provided, you should strictly follow the format of the output/answer in that example.\\n',\n",
       "    'role': 'system'},\n",
       "   {'content': 'Your task is to count how many legs there are in total when given a list of animals.\\n\\nNow, how many legs are there in total if you have 7 dogs, 5 butterflys, 13 flatworms, 3 ants, 8 starfishs, 8 spiders?\\n',\n",
       "    'role': 'user'}],\n",
       "  [{'content': 'A conversation between User and Assistant. The user asks a question, and the Assistant solves it.\\nThe assistant first thinks about the reasoning process in the mind and then provides the user with the answer. The reasoning process and answer are enclosed within <think> </think> and <answer> </answer> tags, respectively, i.e., <think> reasoning process here </think>\\n<answer>answer here</answer>\\nDo not explain your reasoning inside the answer tags, provide only the final answer. When an example is provided, you should strictly follow the format of the output/answer in that example.\\n',\n",
       "    'role': 'system'},\n",
       "   {'content': 'Your task is to count how many legs there are in total when given a list of animals.\\n\\nNow, how many legs are there in total if you have 5 insects, 12 fireflys, 3 giraffes, 13 elephants, 12 jellyfishs, 4 woodlouses, 8 ants, 12 praying mantiss?\\n',\n",
       "    'role': 'user'}],\n",
       "  [{'content': 'A conversation between User and Assistant. The user asks a question, and the Assistant solves it.\\nThe assistant first thinks about the reasoning process in the mind and then provides the user with the answer. The reasoning process and answer are enclosed within <think> </think> and <answer> </answer> tags, respectively, i.e., <think> reasoning process here </think>\\n<answer>answer here</answer>\\nDo not explain your reasoning inside the answer tags, provide only the final answer. When an example is provided, you should strictly follow the format of the output/answer in that example.\\n',\n",
       "    'role': 'system'},\n",
       "   {'content': 'Your task is to count how many legs there are in total when given a list of animals.\\n\\nNow, how many legs are there in total if you have 3 butterflys, 9 cockroachs, 4 shrimps, 8 jellyfishs, 9 lions, 1 dog?\\n',\n",
       "    'role': 'user'}],\n",
       "  [{'content': 'A conversation between User and Assistant. The user asks a question, and the Assistant solves it.\\nThe assistant first thinks about the reasoning process in the mind and then provides the user with the answer. The reasoning process and answer are enclosed within <think> </think> and <answer> </answer> tags, respectively, i.e., <think> reasoning process here </think>\\n<answer>answer here</answer>\\nDo not explain your reasoning inside the answer tags, provide only the final answer. When an example is provided, you should strictly follow the format of the output/answer in that example.\\n',\n",
       "    'role': 'system'},\n",
       "   {'content': 'Your task is to count how many legs there are in total when given a list of animals.\\n\\nNow, how many legs are there in total if you have 13 crickets, 2 praying mantiss, 8 fireflys?\\n',\n",
       "    'role': 'user'}],\n",
       "  [{'content': 'A conversation between User and Assistant. The user asks a question, and the Assistant solves it.\\nThe assistant first thinks about the reasoning process in the mind and then provides the user with the answer. The reasoning process and answer are enclosed within <think> </think> and <answer> </answer> tags, respectively, i.e., <think> reasoning process here </think>\\n<answer>answer here</answer>\\nDo not explain your reasoning inside the answer tags, provide only the final answer. When an example is provided, you should strictly follow the format of the output/answer in that example.\\n',\n",
       "    'role': 'system'},\n",
       "   {'content': 'Your task is to count how many legs there are in total when given a list of animals.\\n\\nNow, how many legs are there in total if you have 14 spiders, 13 chickens, 11 beetles, 13 lobsters, 3 horses, 13 dogs, 2 crickets, 5 grasshoppers, 5 praying mantiss, 4 sea slugs?\\n',\n",
       "    'role': 'user'}],\n",
       "  [{'content': 'A conversation between User and Assistant. The user asks a question, and the Assistant solves it.\\nThe assistant first thinks about the reasoning process in the mind and then provides the user with the answer. The reasoning process and answer are enclosed within <think> </think> and <answer> </answer> tags, respectively, i.e., <think> reasoning process here </think>\\n<answer>answer here</answer>\\nDo not explain your reasoning inside the answer tags, provide only the final answer. When an example is provided, you should strictly follow the format of the output/answer in that example.\\n',\n",
       "    'role': 'system'},\n",
       "   {'content': 'Your task is to count how many legs there are in total when given a list of animals.\\n\\nNow, how many legs are there in total if you have 8 tigers, 3 bees, 6 praying mantiss, 9 wasps?\\n',\n",
       "    'role': 'user'}],\n",
       "  [{'content': 'A conversation between User and Assistant. The user asks a question, and the Assistant solves it.\\nThe assistant first thinks about the reasoning process in the mind and then provides the user with the answer. The reasoning process and answer are enclosed within <think> </think> and <answer> </answer> tags, respectively, i.e., <think> reasoning process here </think>\\n<answer>answer here</answer>\\nDo not explain your reasoning inside the answer tags, provide only the final answer. When an example is provided, you should strictly follow the format of the output/answer in that example.\\n',\n",
       "    'role': 'system'},\n",
       "   {'content': 'Your task is to count how many legs there are in total when given a list of animals.\\n\\nNow, how many legs are there in total if you have 7 deers, 15 cats, 2 lions, 8 flatworms, 7 leechs, 4 starfishs, 2 birds?\\n',\n",
       "    'role': 'user'}],\n",
       "  [{'content': 'A conversation between User and Assistant. The user asks a question, and the Assistant solves it.\\nThe assistant first thinks about the reasoning process in the mind and then provides the user with the answer. The reasoning process and answer are enclosed within <think> </think> and <answer> </answer> tags, respectively, i.e., <think> reasoning process here </think>\\n<answer>answer here</answer>\\nDo not explain your reasoning inside the answer tags, provide only the final answer. When an example is provided, you should strictly follow the format of the output/answer in that example.\\n',\n",
       "    'role': 'system'},\n",
       "   {'content': 'Your task is to count how many legs there are in total when given a list of animals.\\n\\nNow, how many legs are there in total if you have 5 flatworms, 2 giraffes, 4 fireflys, 15 ants, 4 tigers, 1 cow, 6 sea slugs, 11 snakes, 11 jellyfishs, 14 woodlouses?\\n',\n",
       "    'role': 'user'}],\n",
       "  [{'content': 'A conversation between User and Assistant. The user asks a question, and the Assistant solves it.\\nThe assistant first thinks about the reasoning process in the mind and then provides the user with the answer. The reasoning process and answer are enclosed within <think> </think> and <answer> </answer> tags, respectively, i.e., <think> reasoning process here </think>\\n<answer>answer here</answer>\\nDo not explain your reasoning inside the answer tags, provide only the final answer. When an example is provided, you should strictly follow the format of the output/answer in that example.\\n',\n",
       "    'role': 'system'},\n",
       "   {'content': 'Your task is to count how many legs there are in total when given a list of animals.\\n\\nNow, how many legs are there in total if you have 1 grasshopper, 14 cockroachs, 7 butterflys, 7 chickens, 9 flatworms, 6 cats, 10 lions, 7 bees?\\n',\n",
       "    'role': 'user'}],\n",
       "  [{'content': 'A conversation between User and Assistant. The user asks a question, and the Assistant solves it.\\nThe assistant first thinks about the reasoning process in the mind and then provides the user with the answer. The reasoning process and answer are enclosed within <think> </think> and <answer> </answer> tags, respectively, i.e., <think> reasoning process here </think>\\n<answer>answer here</answer>\\nDo not explain your reasoning inside the answer tags, provide only the final answer. When an example is provided, you should strictly follow the format of the output/answer in that example.\\n',\n",
       "    'role': 'system'},\n",
       "   {'content': 'Your task is to count how many legs there are in total when given a list of animals.\\n\\nNow, how many legs are there in total if you have 13 humans, 11 deers, 3 fireflys?\\n',\n",
       "    'role': 'user'}]],\n",
       " 'completion': [[{'role': 'assistant',\n",
       "    'content': \"<think>\\nLet's count the legs for each animal:\\n\\n- Dogs: 7 dogs × 4 legs each = 28 legs\\n- Butterflies: 5 butterflies × 6 legs each = 30 legs\\n- Flatworms: 13 flatworms × 0 legs each (flatworms have no legs) = 0 legs\\n- Ants: 3 ants × 6 legs each = 18 legs\\n- Starfish: 8 starfish × 5 legs each = 40 legs\\n- Spiders: 8 spiders × 8 legs each = 64 legs\\n\\nNow, sum all:\\n\\n28 + 30 + 0 + 18 + 40 + 64 = 180 legs\\n</think>\\n<answer>180</answer>\"}],\n",
       "  [{'role': 'assistant',\n",
       "    'content': '<think>\\nFirst, identify the number of legs for each type of animal:\\n- Insects: Generally, insects have 6 legs each.\\n- Fireflies: Fireflies are insects, so 6 legs each.\\n- Giraffes: Giraffes have 4 legs each.\\n- Elephants: Elephants have 4 legs each.\\n- Jellyfish: Jellyfish have 0 legs.\\n- Woodlouses: Woodlouses (woodlice) have 14 legs each.\\n- Ants: Ants are insects, so 6 legs each.\\n- Praying mantises: Praying mantises are insects, so 6 legs each.\\n\\nNow calculate total legs:\\n- 5 insects * 6 legs = 30 legs\\n- 12 fireflies * 6 legs = 72 legs\\n- 3 giraffes * 4 legs = 12 legs\\n- 13 elephants * 4 legs = 52 legs\\n- 12 jellyfish * 0 legs = 0 legs\\n- 4 woodlouses * 14 legs = 56 legs\\n- 8 ants * 6 legs = 48 legs\\n- 12 praying mantises * 6 legs = 72 legs\\n\\nSum all:\\n30 + 72 + 12 + 52 + 0 + 56 + 48 + 72 = 342 legs\\n</think>\\n<answer>342</answer>'}],\n",
       "  [{'role': 'assistant',\n",
       "    'content': '<think>\\nFirst, identify the number of legs per animal:\\n- Butterfly: 6 legs (insects)\\n- Cockroach: 6 legs (insects)\\n- Shrimp: 10 legs (decapods)\\n- Jellyfish: 0 legs (they have tentacles but no legs)\\n- Lion: 4 legs (mammals)\\n- Dog: 4 legs (mammals)\\n\\nNext, calculate total legs:\\n- Butterflies: 3 * 6 = 18\\n- Cockroaches: 9 * 6 = 54\\n- Shrimps: 4 * 10 = 40\\n- Jellyfish: 8 * 0 = 0\\n- Lions: 9 * 4 = 36\\n- Dog: 1 * 4 = 4\\n\\nSum all:\\n18 + 54 + 40 + 0 + 36 + 4 = 152\\n</think>\\n<answer>152</answer>'}],\n",
       "  [{'role': 'assistant',\n",
       "    'content': '<think>\\nFirst, identify the number of legs for each type of animal:\\n- Crickets have 6 legs each.\\n- Praying mantises have 6 legs each.\\n- Fireflies have 6 legs each.\\n\\nNow calculate the total number of legs:\\n- 13 crickets × 6 legs = 78 legs\\n- 2 praying mantises × 6 legs = 12 legs\\n- 8 fireflies × 6 legs = 48 legs\\n\\nSum all legs:\\n78 + 12 + 48 = 138 legs\\n</think>\\n<answer>138</answer>'}],\n",
       "  [{'role': 'assistant',\n",
       "    'content': '<think>\\nFirst, I will find the number of legs each type of animal has:\\n- Spider: 8 legs\\n- Chicken: 2 legs\\n- Beetle: 6 legs\\n- Lobster: 10 legs (lobsters have 10 legs including claws)\\n- Horse: 4 legs\\n- Dog: 4 legs\\n- Cricket: 6 legs\\n- Grasshopper: 6 legs\\n- Praying mantis: 6 legs\\n- Sea slug: 0 legs\\n\\nNow multiply the number of animals by their legs and sum:\\n- Spiders: 14 * 8 = 112\\n- Chickens: 13 * 2 = 26\\n- Beetles: 11 * 6 = 66\\n- Lobsters: 13 * 10 = 130\\n- Horses: 3 * 4 = 12\\n- Dogs: 13 * 4 = 52\\n- Crickets: 2 * 6 = 12\\n- Grasshoppers: 5 * 6 = 30\\n- Praying mantises: 5 * 6 = 30\\n- Sea slugs: 4 * 0 = 0\\n\\nSum all:\\n112 + 26 + 66 + 130 + 12 + 52 + 12 + 30 + 30 + 0 = 470\\n</think>\\n<answer>470</answer>'}],\n",
       "  [{'role': 'assistant',\n",
       "    'content': '<think>\\nFirst, identify the number of legs each animal has:\\n- Tiger: 4 legs\\n- Bee: 6 legs\\n- Praying mantis: 6 legs\\n- Wasp: 6 legs\\n\\nCalculate total legs for each animal group:\\n- Tigers: 8 * 4 = 32 legs\\n- Bees: 3 * 6 = 18 legs\\n- Praying mantises: 6 * 6 = 36 legs\\n- Wasps: 9 * 6 = 54 legs\\n\\nSum all legs:\\n32 + 18 + 36 + 54 = 140 legs\\n</think>\\n<answer>140</answer>'}],\n",
       "  [{'role': 'assistant',\n",
       "    'content': \"<think>\\nFirst, let's find out the number of legs per animal:\\n- Deer: 4 legs each\\n- Cat: 4 legs each\\n- Lion: 4 legs each\\n- Flatworm: 0 legs (flatworms have no legs)\\n- Leech: 0 legs (leeches have no legs)\\n- Starfish: 5 legs each (starfish have 5 arms/legs)\\n- Bird: 2 legs each\\n\\nNow calculate total legs:\\n- 7 deers * 4 legs = 28 legs\\n- 15 cats * 4 legs = 60 legs\\n- 2 lions * 4 legs = 8 legs\\n- 8 flatworms * 0 legs = 0 legs\\n- 7 leechs * 0 legs = 0 legs\\n- 4 starfishs * 5 legs = 20 legs\\n- 2 birds * 2 legs = 4 legs\\n\\nTotal legs = 28 + 60 + 8 + 0 + 0 + 20 + 4 = 120 legs\\n</think>\\n<answer>120</answer>\"}],\n",
       "  [{'role': 'assistant',\n",
       "    'content': '<think>\\nFirst, identify the number of legs each animal has:\\n- Flatworms: 0 legs (they are worms)\\n- Giraffes: 4 legs each\\n- Fireflies: 6 legs each (insects)\\n- Ants: 6 legs each (insects)\\n- Tigers: 4 legs each\\n- Cow: 4 legs\\n- Sea slugs: 0 legs (they are slugs)\\n- Snakes: 0 legs (they have no legs)\\n- Jellyfish: 0 legs (they have tentacles but no legs)\\n- Woodlice: 14 individuals, each has 14 legs? Actually, woodlice are crustaceans with 7 pairs of legs = 14 legs each.\\n\\nCalculate total legs:\\n- Flatworms: 5 * 0 = 0\\n- Giraffes: 2 * 4 = 8\\n- Fireflies: 4 * 6 = 24\\n- Ants: 15 * 6 = 90\\n- Tigers: 4 * 4 = 16\\n- Cow: 1 * 4 = 4\\n- Sea slugs: 6 * 0 = 0\\n- Snakes: 11 * 0 = 0\\n- Jellyfish: 11 * 0 = 0\\n- Woodlice: 14 * 14 = 196\\n\\nSum all:\\n0 + 8 + 24 + 90 + 16 + 4 + 0 + 0 + 0 + 196 = 338 legs total\\n</think>\\n<answer>338</answer>'}],\n",
       "  [{'role': 'assistant',\n",
       "    'content': '<think>\\nFirst, identify the number of legs each type of animal has:\\n- Grasshopper: 6 legs\\n- Cockroach: 6 legs\\n- Butterfly: 6 legs\\n- Chicken: 2 legs\\n- Flatworm: 0 legs (flatworms do not have legs)\\n- Cat: 4 legs\\n- Lion: 4 legs\\n- Bee: 6 legs\\n\\nNow calculate the total legs for each animal:\\n- Grasshopper: 1 * 6 = 6\\n- Cockroach: 14 * 6 = 84\\n- Butterfly: 7 * 6 = 42\\n- Chicken: 7 * 2 = 14\\n- Flatworm: 9 * 0 = 0\\n- Cat: 6 * 4 = 24\\n- Lion: 10 * 4 = 40\\n- Bee: 7 * 6 = 42\\n\\nAdd them all up:\\n6 + 84 + 42 + 14 + 0 + 24 + 40 + 42 = 252\\n</think>\\n<answer>252</answer>'}],\n",
       "  [{'role': 'assistant',\n",
       "    'content': '<think>\\nFirst, I need to know the number of legs each animal has:\\n- Humans have 2 legs each.\\n- Deers have 4 legs each.\\n- Fireflies, being insects, have 6 legs each.\\n\\nNext, I calculate the total legs for each type:\\n- Humans: 13 * 2 = 26 legs\\n- Deers: 11 * 4 = 44 legs\\n- Fireflies: 3 * 6 = 18 legs\\n\\nFinally, I sum all the legs:\\n26 + 44 + 18 = 88 legs\\n</think>\\n<answer>88</answer>'}]],\n",
       " 'state': [{}, {}, {}, {}, {}, {}, {}, {}, {}, {}],\n",
       " 'check_answer_reward_func': [1.0,\n",
       "  1.0,\n",
       "  1.0,\n",
       "  1.0,\n",
       "  1.0,\n",
       "  1.0,\n",
       "  1.0,\n",
       "  1.0,\n",
       "  1.0,\n",
       "  1.0],\n",
       " 'reward': [1.0, 1.0, 1.0, 1.0, 1.0, 1.0, 1.0, 1.0, 1.0, 1.0]}"
      ]
     },
     "execution_count": 4,
     "metadata": {},
     "output_type": "execute_result"
    }
   ],
   "source": [
    "from verifiers.envs.reasoninggym_env import ReasoningGymEnv\n",
    "client = OpenAI()\n",
    "model_name = \"gpt-4.1-mini\"\n",
    "vf_env = ReasoningGymEnv(\n",
    "    client=client, model=model_name, gym='leg_counting',\n",
    "    num_samples=1000, num_eval_samples=100, seed=42)\n",
    "vf_env.evaluate(client=client, model=model_name,\n",
    "                sampling_args=sampling_args, num_samples=num_samples)"
   ]
  },
  {
   "cell_type": "code",
   "execution_count": null,
   "metadata": {},
   "outputs": [],
   "source": [
    "# columns = ['prompt', 'completion', 'answer', 'reward']\n",
    "# use deepseek-chat for multiturn rollouts (V3-0324)\n",
    "results = vf_env.evaluate(\n",
    "    client=client, model=model_name, \n",
    "    sampling_args=sampling_args, num_samples=num_samples) \n",
    "\n",
    "print(\"Rewards:\")\n",
    "for k, v in results.items():\n",
    "    if 'reward' in k:\n",
    "        print(k, '-', v) \n",
    "\n",
    "#dataset_dsv3 = vf_env.make_dataset(results)\n",
    "# filter to top half of rows by rewards\n",
    "#dataset_dsv3 = dataset_dsv3.sort(\"reward\", reverse=True).select(range(len(dataset_dsv3) // 2))\n",
    "# save to hub\n",
    "#dataset_dsv3.push_to_hub(\"V3-wiki-paragraphs-test\")"
   ]
  },
  {
   "cell_type": "code",
   "execution_count": 7,
   "metadata": {},
   "outputs": [
    {
     "name": "stderr",
     "output_type": "stream",
     "text": [
      "Parameter 'function'=<function Environment.format_dataset.<locals>.<lambda> at 0x74afaa3e0720> of the transform datasets.arrow_dataset.Dataset._map_single couldn't be hashed properly, a random hash was used instead. Make sure your transforms and parameters are serializable with pickle or dill for the dataset fingerprinting and caching to work. If you reuse this transform, the caching mechanism will consider it to be different from the previous calls and recompute everything. This warning is only showed once. Subsequent hashing failures won't be showed.\n",
      "Setting TOKENIZERS_PARALLELISM=false for forked processes.\n"
     ]
    },
    {
     "data": {
      "application/vnd.jupyter.widget-view+json": {
       "model_id": "5d35076b06e44730a6edfbdf5db5bcbf",
       "version_major": 2,
       "version_minor": 0
      },
      "text/plain": [
       "Map (num_proc=32):   0%|          | 0/1000 [00:00<?, ? examples/s]"
      ]
     },
     "metadata": {},
     "output_type": "display_data"
    },
    {
     "ename": "TypeError",
     "evalue": "cannot pickle 'SSLContext' object",
     "output_type": "error",
     "traceback": [
      "\u001b[31m---------------------------------------------------------------------------\u001b[39m",
      "\u001b[31mTypeError\u001b[39m                                 Traceback (most recent call last)",
      "\u001b[36mCell\u001b[39m\u001b[36m \u001b[39m\u001b[32mIn[7]\u001b[39m\u001b[32m, line 4\u001b[39m\n\u001b[32m      2\u001b[39m client = OpenAI()\n\u001b[32m      3\u001b[39m model_name = \u001b[33m\"\u001b[39m\u001b[33mgpt-4.1-mini\u001b[39m\u001b[33m\"\u001b[39m\n\u001b[32m----> \u001b[39m\u001b[32m4\u001b[39m vf_env = \u001b[43mReasoningGymEnv\u001b[49m\u001b[43m(\u001b[49m\u001b[43mclient\u001b[49m\u001b[43m=\u001b[49m\u001b[43mclient\u001b[49m\u001b[43m,\u001b[49m\u001b[43m \u001b[49m\u001b[43mmodel\u001b[49m\u001b[43m=\u001b[49m\u001b[43mmodel_name\u001b[49m\u001b[43m,\u001b[49m\u001b[43m \u001b[49m\u001b[43mgym\u001b[49m\u001b[43m=\u001b[49m\u001b[33;43m'\u001b[39;49m\u001b[33;43mleg_counting\u001b[39;49m\u001b[33;43m'\u001b[39;49m\u001b[43m,\u001b[49m\u001b[43m \u001b[49m\u001b[43mnum_samples\u001b[49m\u001b[43m=\u001b[49m\u001b[32;43m1000\u001b[39;49m\u001b[43m,\u001b[49m\u001b[43m \u001b[49m\u001b[43mnum_eval_samples\u001b[49m\u001b[43m=\u001b[49m\u001b[32;43m100\u001b[39;49m\u001b[43m,\u001b[49m\u001b[43m \u001b[49m\u001b[43mseed\u001b[49m\u001b[43m=\u001b[49m\u001b[32;43m42\u001b[39;49m\u001b[43m)\u001b[49m\n\u001b[32m      5\u001b[39m vf_env.evaluate(client=client, model=model_name, sampling_args=sampling_args, num_samples=num_samples)\n",
      "\u001b[36mFile \u001b[39m\u001b[32m/workspace/verifiers/verifiers/envs/reasoninggym_env.py:37\u001b[39m, in \u001b[36mReasoningGymEnv.__init__\u001b[39m\u001b[34m(self, gym, num_samples, num_eval_samples, seed, **kwargs)\u001b[39m\n\u001b[32m     35\u001b[39m \u001b[38;5;28mself\u001b[39m.rubric.add_reward_func(check_answer_reward_func)\n\u001b[32m     36\u001b[39m \u001b[38;5;28mself\u001b[39m.system_prompt = rg.utils.SYSTEM_PROMPTS[\u001b[33m\"\u001b[39m\u001b[33mDeepSeekZero\u001b[39m\u001b[33m\"\u001b[39m] \u001b[38;5;66;03m# type: ignore\u001b[39;00m\n\u001b[32m---> \u001b[39m\u001b[32m37\u001b[39m \u001b[38;5;28;43msuper\u001b[39;49m\u001b[43m(\u001b[49m\u001b[43m)\u001b[49m\u001b[43m.\u001b[49m\u001b[34;43m__init__\u001b[39;49m\u001b[43m(\u001b[49m\n\u001b[32m     38\u001b[39m \u001b[43m    \u001b[49m\u001b[43mdataset\u001b[49m\u001b[43m=\u001b[49m\u001b[38;5;28;43mself\u001b[39;49m\u001b[43m.\u001b[49m\u001b[43mdataset\u001b[49m\u001b[43m,\u001b[49m\n\u001b[32m     39\u001b[39m \u001b[43m    \u001b[49m\u001b[43meval_dataset\u001b[49m\u001b[43m=\u001b[49m\u001b[38;5;28;43mself\u001b[39;49m\u001b[43m.\u001b[49m\u001b[43meval_dataset\u001b[49m\u001b[43m,\u001b[49m\n\u001b[32m     40\u001b[39m \u001b[43m    \u001b[49m\u001b[43msystem_prompt\u001b[49m\u001b[43m=\u001b[49m\u001b[38;5;28;43mself\u001b[39;49m\u001b[43m.\u001b[49m\u001b[43msystem_prompt\u001b[49m\u001b[43m,\u001b[49m\n\u001b[32m     41\u001b[39m \u001b[43m    \u001b[49m\u001b[43mparser\u001b[49m\u001b[43m=\u001b[49m\u001b[38;5;28;43mself\u001b[39;49m\u001b[43m.\u001b[49m\u001b[43mparser\u001b[49m\u001b[43m,\u001b[49m\n\u001b[32m     42\u001b[39m \u001b[43m    \u001b[49m\u001b[43mrubric\u001b[49m\u001b[43m=\u001b[49m\u001b[38;5;28;43mself\u001b[39;49m\u001b[43m.\u001b[49m\u001b[43mrubric\u001b[49m\u001b[43m,\u001b[49m\n\u001b[32m     43\u001b[39m \u001b[43m    \u001b[49m\u001b[43mmessage_type\u001b[49m\u001b[43m=\u001b[49m\u001b[38;5;28;43mself\u001b[39;49m\u001b[43m.\u001b[49m\u001b[43mmessage_type\u001b[49m\u001b[43m,\u001b[49m\n\u001b[32m     44\u001b[39m \u001b[43m    \u001b[49m\u001b[43m*\u001b[49m\u001b[43m*\u001b[49m\u001b[43mkwargs\u001b[49m\n\u001b[32m     45\u001b[39m \u001b[43m\u001b[49m\u001b[43m)\u001b[49m\n",
      "\u001b[36mFile \u001b[39m\u001b[32m/workspace/verifiers/verifiers/envs/singleturn_env.py:13\u001b[39m, in \u001b[36mSingleTurnEnv.__init__\u001b[39m\u001b[34m(self, **kwargs)\u001b[39m\n\u001b[32m     12\u001b[39m \u001b[38;5;28;01mdef\u001b[39;00m\u001b[38;5;250m \u001b[39m\u001b[34m__init__\u001b[39m(\u001b[38;5;28mself\u001b[39m, **kwargs):\n\u001b[32m---> \u001b[39m\u001b[32m13\u001b[39m     \u001b[38;5;28;43msuper\u001b[39;49m\u001b[43m(\u001b[49m\u001b[43m)\u001b[49m\u001b[43m.\u001b[49m\u001b[34;43m__init__\u001b[39;49m\u001b[43m(\u001b[49m\u001b[43m*\u001b[49m\u001b[43m*\u001b[49m\u001b[43mkwargs\u001b[49m\u001b[43m)\u001b[49m\n",
      "\u001b[36mFile \u001b[39m\u001b[32m/workspace/verifiers/verifiers/envs/environment.py:40\u001b[39m, in \u001b[36mEnvironment.__init__\u001b[39m\u001b[34m(self, client, model, dataset, eval_dataset, system_prompt, few_shot, parser, rubric, sampling_args, max_concurrent, message_type, **kwargs)\u001b[39m\n\u001b[32m     38\u001b[39m \u001b[38;5;28;01mif\u001b[39;00m \u001b[38;5;28mself\u001b[39m.message_type == \u001b[33m'\u001b[39m\u001b[33mchat\u001b[39m\u001b[33m'\u001b[39m:\n\u001b[32m     39\u001b[39m     \u001b[38;5;28;01mif\u001b[39;00m dataset \u001b[38;5;129;01mis\u001b[39;00m \u001b[38;5;129;01mnot\u001b[39;00m \u001b[38;5;28;01mNone\u001b[39;00m:\n\u001b[32m---> \u001b[39m\u001b[32m40\u001b[39m         \u001b[38;5;28mself\u001b[39m.dataset = \u001b[38;5;28;43mself\u001b[39;49m\u001b[43m.\u001b[49m\u001b[43mformat_dataset\u001b[49m\u001b[43m(\u001b[49m\u001b[43mdataset\u001b[49m\u001b[43m,\u001b[49m\u001b[43m \u001b[49m\u001b[38;5;28;43mself\u001b[39;49m\u001b[43m.\u001b[49m\u001b[43msystem_prompt\u001b[49m\u001b[43m,\u001b[49m\u001b[43m \u001b[49m\u001b[38;5;28;43mself\u001b[39;49m\u001b[43m.\u001b[49m\u001b[43mfew_shot\u001b[49m\u001b[43m)\u001b[49m\n\u001b[32m     41\u001b[39m     \u001b[38;5;28;01melse\u001b[39;00m:\n\u001b[32m     42\u001b[39m         \u001b[38;5;28mself\u001b[39m.dataset = \u001b[38;5;28;01mNone\u001b[39;00m \n",
      "\u001b[36mFile \u001b[39m\u001b[32m/workspace/verifiers/verifiers/envs/environment.py:97\u001b[39m, in \u001b[36mEnvironment.format_dataset\u001b[39m\u001b[34m(self, dataset, system_prompt, few_shot, question_key, answer_key)\u001b[39m\n\u001b[32m     90\u001b[39m \u001b[38;5;28;01mdef\u001b[39;00m\u001b[38;5;250m \u001b[39m\u001b[34mformat_dataset\u001b[39m(\u001b[38;5;28mself\u001b[39m,\n\u001b[32m     91\u001b[39m                    dataset: Dataset,\n\u001b[32m     92\u001b[39m                    system_prompt: \u001b[38;5;28mstr\u001b[39m | \u001b[38;5;28;01mNone\u001b[39;00m = \u001b[38;5;28;01mNone\u001b[39;00m,\n\u001b[32m     93\u001b[39m                    few_shot: List[Dict[\u001b[38;5;28mstr\u001b[39m, \u001b[38;5;28mstr\u001b[39m]] | \u001b[38;5;28;01mNone\u001b[39;00m = \u001b[38;5;28;01mNone\u001b[39;00m,\n\u001b[32m     94\u001b[39m                    question_key: \u001b[38;5;28mstr\u001b[39m = \u001b[33m\"\u001b[39m\u001b[33mquestion\u001b[39m\u001b[33m\"\u001b[39m,\n\u001b[32m     95\u001b[39m                    answer_key: \u001b[38;5;28mstr\u001b[39m = \u001b[33m\"\u001b[39m\u001b[33manswer\u001b[39m\u001b[33m\"\u001b[39m) -> Dataset:\n\u001b[32m     96\u001b[39m     \u001b[38;5;28;01mif\u001b[39;00m answer_key == \u001b[33m\"\u001b[39m\u001b[33manswer\u001b[39m\u001b[33m\"\u001b[39m:\n\u001b[32m---> \u001b[39m\u001b[32m97\u001b[39m         \u001b[38;5;28;01mreturn\u001b[39;00m \u001b[43mdataset\u001b[49m\u001b[43m.\u001b[49m\u001b[43mmap\u001b[49m\u001b[43m(\u001b[49m\u001b[38;5;28;43;01mlambda\u001b[39;49;00m\u001b[43m \u001b[49m\u001b[43mx\u001b[49m\u001b[43m:\u001b[49m\u001b[43m \u001b[49m\u001b[43m{\u001b[49m\n\u001b[32m     98\u001b[39m \u001b[43m            \u001b[49m\u001b[33;43m\"\u001b[39;49m\u001b[33;43mprompt\u001b[39;49m\u001b[33;43m\"\u001b[39;49m\u001b[43m:\u001b[49m\u001b[43m \u001b[49m\u001b[38;5;28;43mself\u001b[39;49m\u001b[43m.\u001b[49m\u001b[43mformat_prompt\u001b[49m\u001b[43m(\u001b[49m\u001b[43mx\u001b[49m\u001b[43m[\u001b[49m\u001b[43mquestion_key\u001b[49m\u001b[43m]\u001b[49m\u001b[43m,\u001b[49m\u001b[43m \u001b[49m\u001b[43msystem_prompt\u001b[49m\u001b[43m,\u001b[49m\u001b[43m \u001b[49m\u001b[43mfew_shot\u001b[49m\u001b[43m)\u001b[49m\u001b[43m,\u001b[49m\n\u001b[32m     99\u001b[39m \u001b[43m        \u001b[49m\u001b[43m}\u001b[49m\u001b[43m,\u001b[49m\u001b[43m \u001b[49m\u001b[43mnum_proc\u001b[49m\u001b[43m=\u001b[49m\u001b[38;5;28;43mself\u001b[39;49m\u001b[43m.\u001b[49m\u001b[43mmax_concurrent\u001b[49m\u001b[43m)\u001b[49m\n\u001b[32m    100\u001b[39m     \u001b[38;5;28;01melse\u001b[39;00m:\n\u001b[32m    101\u001b[39m         \u001b[38;5;28;01mreturn\u001b[39;00m dataset.map(\u001b[38;5;28;01mlambda\u001b[39;00m x: {\n\u001b[32m    102\u001b[39m             \u001b[33m\"\u001b[39m\u001b[33mprompt\u001b[39m\u001b[33m\"\u001b[39m: \u001b[38;5;28mself\u001b[39m.format_prompt(x[question_key], system_prompt, few_shot),\n\u001b[32m    103\u001b[39m             \u001b[33m\"\u001b[39m\u001b[33manswer\u001b[39m\u001b[33m\"\u001b[39m: x[answer_key]\n\u001b[32m    104\u001b[39m         }, num_proc=\u001b[38;5;28mself\u001b[39m.max_concurrent)\n",
      "\u001b[36mFile \u001b[39m\u001b[32m/workspace/verifiers/.venv/lib/python3.11/site-packages/datasets/arrow_dataset.py:557\u001b[39m, in \u001b[36mtransmit_format.<locals>.wrapper\u001b[39m\u001b[34m(*args, **kwargs)\u001b[39m\n\u001b[32m    550\u001b[39m self_format = {\n\u001b[32m    551\u001b[39m     \u001b[33m\"\u001b[39m\u001b[33mtype\u001b[39m\u001b[33m\"\u001b[39m: \u001b[38;5;28mself\u001b[39m._format_type,\n\u001b[32m    552\u001b[39m     \u001b[33m\"\u001b[39m\u001b[33mformat_kwargs\u001b[39m\u001b[33m\"\u001b[39m: \u001b[38;5;28mself\u001b[39m._format_kwargs,\n\u001b[32m    553\u001b[39m     \u001b[33m\"\u001b[39m\u001b[33mcolumns\u001b[39m\u001b[33m\"\u001b[39m: \u001b[38;5;28mself\u001b[39m._format_columns,\n\u001b[32m    554\u001b[39m     \u001b[33m\"\u001b[39m\u001b[33moutput_all_columns\u001b[39m\u001b[33m\"\u001b[39m: \u001b[38;5;28mself\u001b[39m._output_all_columns,\n\u001b[32m    555\u001b[39m }\n\u001b[32m    556\u001b[39m \u001b[38;5;66;03m# apply actual function\u001b[39;00m\n\u001b[32m--> \u001b[39m\u001b[32m557\u001b[39m out: Union[\u001b[33m\"\u001b[39m\u001b[33mDataset\u001b[39m\u001b[33m\"\u001b[39m, \u001b[33m\"\u001b[39m\u001b[33mDatasetDict\u001b[39m\u001b[33m\"\u001b[39m] = \u001b[43mfunc\u001b[49m\u001b[43m(\u001b[49m\u001b[38;5;28;43mself\u001b[39;49m\u001b[43m,\u001b[49m\u001b[43m \u001b[49m\u001b[43m*\u001b[49m\u001b[43margs\u001b[49m\u001b[43m,\u001b[49m\u001b[43m \u001b[49m\u001b[43m*\u001b[49m\u001b[43m*\u001b[49m\u001b[43mkwargs\u001b[49m\u001b[43m)\u001b[49m\n\u001b[32m    558\u001b[39m datasets: \u001b[38;5;28mlist\u001b[39m[\u001b[33m\"\u001b[39m\u001b[33mDataset\u001b[39m\u001b[33m\"\u001b[39m] = \u001b[38;5;28mlist\u001b[39m(out.values()) \u001b[38;5;28;01mif\u001b[39;00m \u001b[38;5;28misinstance\u001b[39m(out, \u001b[38;5;28mdict\u001b[39m) \u001b[38;5;28;01melse\u001b[39;00m [out]\n\u001b[32m    559\u001b[39m \u001b[38;5;66;03m# re-apply format to the output\u001b[39;00m\n",
      "\u001b[36mFile \u001b[39m\u001b[32m/workspace/verifiers/.venv/lib/python3.11/site-packages/datasets/arrow_dataset.py:3171\u001b[39m, in \u001b[36mDataset.map\u001b[39m\u001b[34m(self, function, with_indices, with_rank, input_columns, batched, batch_size, drop_last_batch, remove_columns, keep_in_memory, load_from_cache_file, cache_file_name, writer_batch_size, features, disable_nullable, fn_kwargs, num_proc, suffix_template, new_fingerprint, desc, try_original_type)\u001b[39m\n\u001b[32m   3165\u001b[39m logger.info(\u001b[33mf\u001b[39m\u001b[33m\"\u001b[39m\u001b[33mSpawning \u001b[39m\u001b[38;5;132;01m{\u001b[39;00mnum_proc\u001b[38;5;132;01m}\u001b[39;00m\u001b[33m processes\u001b[39m\u001b[33m\"\u001b[39m)\n\u001b[32m   3166\u001b[39m \u001b[38;5;28;01mwith\u001b[39;00m hf_tqdm(\n\u001b[32m   3167\u001b[39m     unit=\u001b[33m\"\u001b[39m\u001b[33m examples\u001b[39m\u001b[33m\"\u001b[39m,\n\u001b[32m   3168\u001b[39m     total=pbar_total,\n\u001b[32m   3169\u001b[39m     desc=(desc \u001b[38;5;129;01mor\u001b[39;00m \u001b[33m\"\u001b[39m\u001b[33mMap\u001b[39m\u001b[33m\"\u001b[39m) + \u001b[33mf\u001b[39m\u001b[33m\"\u001b[39m\u001b[33m (num_proc=\u001b[39m\u001b[38;5;132;01m{\u001b[39;00mnum_proc\u001b[38;5;132;01m}\u001b[39;00m\u001b[33m)\u001b[39m\u001b[33m\"\u001b[39m,\n\u001b[32m   3170\u001b[39m ) \u001b[38;5;28;01mas\u001b[39;00m pbar:\n\u001b[32m-> \u001b[39m\u001b[32m3171\u001b[39m \u001b[43m    \u001b[49m\u001b[38;5;28;43;01mfor\u001b[39;49;00m\u001b[43m \u001b[49m\u001b[43mrank\u001b[49m\u001b[43m,\u001b[49m\u001b[43m \u001b[49m\u001b[43mdone\u001b[49m\u001b[43m,\u001b[49m\u001b[43m \u001b[49m\u001b[43mcontent\u001b[49m\u001b[43m \u001b[49m\u001b[38;5;129;43;01min\u001b[39;49;00m\u001b[43m \u001b[49m\u001b[43miflatmap_unordered\u001b[49m\u001b[43m(\u001b[49m\n\u001b[32m   3172\u001b[39m \u001b[43m        \u001b[49m\u001b[43mpool\u001b[49m\u001b[43m,\u001b[49m\u001b[43m \u001b[49m\u001b[43mDataset\u001b[49m\u001b[43m.\u001b[49m\u001b[43m_map_single\u001b[49m\u001b[43m,\u001b[49m\u001b[43m \u001b[49m\u001b[43mkwargs_iterable\u001b[49m\u001b[43m=\u001b[49m\u001b[43mkwargs_per_job\u001b[49m\n\u001b[32m   3173\u001b[39m \u001b[43m    \u001b[49m\u001b[43m)\u001b[49m\u001b[43m:\u001b[49m\n\u001b[32m   3174\u001b[39m \u001b[43m        \u001b[49m\u001b[38;5;28;43;01mif\u001b[39;49;00m\u001b[43m \u001b[49m\u001b[43mdone\u001b[49m\u001b[43m:\u001b[49m\n\u001b[32m   3175\u001b[39m \u001b[43m            \u001b[49m\u001b[43mshards_done\u001b[49m\u001b[43m \u001b[49m\u001b[43m+\u001b[49m\u001b[43m=\u001b[49m\u001b[43m \u001b[49m\u001b[32;43m1\u001b[39;49m\n",
      "\u001b[36mFile \u001b[39m\u001b[32m/workspace/verifiers/.venv/lib/python3.11/site-packages/datasets/utils/py_utils.py:728\u001b[39m, in \u001b[36miflatmap_unordered\u001b[39m\u001b[34m(pool, func, kwargs_iterable)\u001b[39m\n\u001b[32m    725\u001b[39m \u001b[38;5;28;01mfinally\u001b[39;00m:\n\u001b[32m    726\u001b[39m     \u001b[38;5;28;01mif\u001b[39;00m \u001b[38;5;129;01mnot\u001b[39;00m pool_changed:\n\u001b[32m    727\u001b[39m         \u001b[38;5;66;03m# we get the result in case there's an error to raise\u001b[39;00m\n\u001b[32m--> \u001b[39m\u001b[32m728\u001b[39m         \u001b[43m[\u001b[49m\u001b[43masync_result\u001b[49m\u001b[43m.\u001b[49m\u001b[43mget\u001b[49m\u001b[43m(\u001b[49m\u001b[43mtimeout\u001b[49m\u001b[43m=\u001b[49m\u001b[32;43m0.05\u001b[39;49m\u001b[43m)\u001b[49m\u001b[43m \u001b[49m\u001b[38;5;28;43;01mfor\u001b[39;49;00m\u001b[43m \u001b[49m\u001b[43masync_result\u001b[49m\u001b[43m \u001b[49m\u001b[38;5;129;43;01min\u001b[39;49;00m\u001b[43m \u001b[49m\u001b[43masync_results\u001b[49m\u001b[43m]\u001b[49m\n",
      "\u001b[36mFile \u001b[39m\u001b[32m/workspace/verifiers/.venv/lib/python3.11/site-packages/datasets/utils/py_utils.py:728\u001b[39m, in \u001b[36m<listcomp>\u001b[39m\u001b[34m(.0)\u001b[39m\n\u001b[32m    725\u001b[39m \u001b[38;5;28;01mfinally\u001b[39;00m:\n\u001b[32m    726\u001b[39m     \u001b[38;5;28;01mif\u001b[39;00m \u001b[38;5;129;01mnot\u001b[39;00m pool_changed:\n\u001b[32m    727\u001b[39m         \u001b[38;5;66;03m# we get the result in case there's an error to raise\u001b[39;00m\n\u001b[32m--> \u001b[39m\u001b[32m728\u001b[39m         [\u001b[43masync_result\u001b[49m\u001b[43m.\u001b[49m\u001b[43mget\u001b[49m\u001b[43m(\u001b[49m\u001b[43mtimeout\u001b[49m\u001b[43m=\u001b[49m\u001b[32;43m0.05\u001b[39;49m\u001b[43m)\u001b[49m \u001b[38;5;28;01mfor\u001b[39;00m async_result \u001b[38;5;129;01min\u001b[39;00m async_results]\n",
      "\u001b[36mFile \u001b[39m\u001b[32m/workspace/verifiers/.venv/lib/python3.11/site-packages/multiprocess/pool.py:774\u001b[39m, in \u001b[36mApplyResult.get\u001b[39m\u001b[34m(self, timeout)\u001b[39m\n\u001b[32m    772\u001b[39m     \u001b[38;5;28;01mreturn\u001b[39;00m \u001b[38;5;28mself\u001b[39m._value\n\u001b[32m    773\u001b[39m \u001b[38;5;28;01melse\u001b[39;00m:\n\u001b[32m--> \u001b[39m\u001b[32m774\u001b[39m     \u001b[38;5;28;01mraise\u001b[39;00m \u001b[38;5;28mself\u001b[39m._value\n",
      "\u001b[36mFile \u001b[39m\u001b[32m/workspace/verifiers/.venv/lib/python3.11/site-packages/multiprocess/pool.py:540\u001b[39m, in \u001b[36mPool._handle_tasks\u001b[39m\u001b[34m(taskqueue, put, outqueue, pool, cache)\u001b[39m\n\u001b[32m    538\u001b[39m     \u001b[38;5;28;01mbreak\u001b[39;00m\n\u001b[32m    539\u001b[39m \u001b[38;5;28;01mtry\u001b[39;00m:\n\u001b[32m--> \u001b[39m\u001b[32m540\u001b[39m     \u001b[43mput\u001b[49m\u001b[43m(\u001b[49m\u001b[43mtask\u001b[49m\u001b[43m)\u001b[49m\n\u001b[32m    541\u001b[39m \u001b[38;5;28;01mexcept\u001b[39;00m \u001b[38;5;167;01mException\u001b[39;00m \u001b[38;5;28;01mas\u001b[39;00m e:\n\u001b[32m    542\u001b[39m     job, idx = task[:\u001b[32m2\u001b[39m]\n",
      "\u001b[36mFile \u001b[39m\u001b[32m/workspace/verifiers/.venv/lib/python3.11/site-packages/multiprocess/connection.py:209\u001b[39m, in \u001b[36m_ConnectionBase.send\u001b[39m\u001b[34m(self, obj)\u001b[39m\n\u001b[32m    207\u001b[39m \u001b[38;5;28mself\u001b[39m._check_closed()\n\u001b[32m    208\u001b[39m \u001b[38;5;28mself\u001b[39m._check_writable()\n\u001b[32m--> \u001b[39m\u001b[32m209\u001b[39m \u001b[38;5;28mself\u001b[39m._send_bytes(\u001b[43m_ForkingPickler\u001b[49m\u001b[43m.\u001b[49m\u001b[43mdumps\u001b[49m\u001b[43m(\u001b[49m\u001b[43mobj\u001b[49m\u001b[43m)\u001b[49m)\n",
      "\u001b[36mFile \u001b[39m\u001b[32m/workspace/verifiers/.venv/lib/python3.11/site-packages/multiprocess/reduction.py:54\u001b[39m, in \u001b[36mForkingPickler.dumps\u001b[39m\u001b[34m(cls, obj, protocol, *args, **kwds)\u001b[39m\n\u001b[32m     51\u001b[39m \u001b[38;5;129m@classmethod\u001b[39m\n\u001b[32m     52\u001b[39m \u001b[38;5;28;01mdef\u001b[39;00m\u001b[38;5;250m \u001b[39m\u001b[34mdumps\u001b[39m(\u001b[38;5;28mcls\u001b[39m, obj, protocol=\u001b[38;5;28;01mNone\u001b[39;00m, *args, **kwds):\n\u001b[32m     53\u001b[39m     buf = io.BytesIO()\n\u001b[32m---> \u001b[39m\u001b[32m54\u001b[39m     \u001b[38;5;28;43mcls\u001b[39;49m\u001b[43m(\u001b[49m\u001b[43mbuf\u001b[49m\u001b[43m,\u001b[49m\u001b[43m \u001b[49m\u001b[43mprotocol\u001b[49m\u001b[43m,\u001b[49m\u001b[43m \u001b[49m\u001b[43m*\u001b[49m\u001b[43margs\u001b[49m\u001b[43m,\u001b[49m\u001b[43m \u001b[49m\u001b[43m*\u001b[49m\u001b[43m*\u001b[49m\u001b[43mkwds\u001b[49m\u001b[43m)\u001b[49m\u001b[43m.\u001b[49m\u001b[43mdump\u001b[49m\u001b[43m(\u001b[49m\u001b[43mobj\u001b[49m\u001b[43m)\u001b[49m\n\u001b[32m     55\u001b[39m     \u001b[38;5;28;01mreturn\u001b[39;00m buf.getbuffer()\n",
      "\u001b[36mFile \u001b[39m\u001b[32m/workspace/verifiers/.venv/lib/python3.11/site-packages/dill/_dill.py:420\u001b[39m, in \u001b[36mPickler.dump\u001b[39m\u001b[34m(self, obj)\u001b[39m\n\u001b[32m    418\u001b[39m \u001b[38;5;28;01mdef\u001b[39;00m\u001b[38;5;250m \u001b[39m\u001b[34mdump\u001b[39m(\u001b[38;5;28mself\u001b[39m, obj): \u001b[38;5;66;03m#NOTE: if settings change, need to update attributes\u001b[39;00m\n\u001b[32m    419\u001b[39m     logger.trace_setup(\u001b[38;5;28mself\u001b[39m)\n\u001b[32m--> \u001b[39m\u001b[32m420\u001b[39m     \u001b[43mStockPickler\u001b[49m\u001b[43m.\u001b[49m\u001b[43mdump\u001b[49m\u001b[43m(\u001b[49m\u001b[38;5;28;43mself\u001b[39;49m\u001b[43m,\u001b[49m\u001b[43m \u001b[49m\u001b[43mobj\u001b[49m\u001b[43m)\u001b[49m\n",
      "\u001b[36mFile \u001b[39m\u001b[32m/workspace/.local/share/uv/python/cpython-3.11.12-linux-x86_64-gnu/lib/python3.11/pickle.py:487\u001b[39m, in \u001b[36m_Pickler.dump\u001b[39m\u001b[34m(self, obj)\u001b[39m\n\u001b[32m    485\u001b[39m \u001b[38;5;28;01mif\u001b[39;00m \u001b[38;5;28mself\u001b[39m.proto >= \u001b[32m4\u001b[39m:\n\u001b[32m    486\u001b[39m     \u001b[38;5;28mself\u001b[39m.framer.start_framing()\n\u001b[32m--> \u001b[39m\u001b[32m487\u001b[39m \u001b[38;5;28;43mself\u001b[39;49m\u001b[43m.\u001b[49m\u001b[43msave\u001b[49m\u001b[43m(\u001b[49m\u001b[43mobj\u001b[49m\u001b[43m)\u001b[49m\n\u001b[32m    488\u001b[39m \u001b[38;5;28mself\u001b[39m.write(STOP)\n\u001b[32m    489\u001b[39m \u001b[38;5;28mself\u001b[39m.framer.end_framing()\n",
      "\u001b[36mFile \u001b[39m\u001b[32m/workspace/verifiers/.venv/lib/python3.11/site-packages/dill/_dill.py:414\u001b[39m, in \u001b[36mPickler.save\u001b[39m\u001b[34m(self, obj, save_persistent_id)\u001b[39m\n\u001b[32m    412\u001b[39m     msg = \u001b[33m\"\u001b[39m\u001b[33mCan\u001b[39m\u001b[33m'\u001b[39m\u001b[33mt pickle \u001b[39m\u001b[38;5;132;01m%s\u001b[39;00m\u001b[33m: attribute lookup builtins.generator failed\u001b[39m\u001b[33m\"\u001b[39m % GeneratorType\n\u001b[32m    413\u001b[39m     \u001b[38;5;28;01mraise\u001b[39;00m PicklingError(msg)\n\u001b[32m--> \u001b[39m\u001b[32m414\u001b[39m \u001b[43mStockPickler\u001b[49m\u001b[43m.\u001b[49m\u001b[43msave\u001b[49m\u001b[43m(\u001b[49m\u001b[38;5;28;43mself\u001b[39;49m\u001b[43m,\u001b[49m\u001b[43m \u001b[49m\u001b[43mobj\u001b[49m\u001b[43m,\u001b[49m\u001b[43m \u001b[49m\u001b[43msave_persistent_id\u001b[49m\u001b[43m)\u001b[49m\n",
      "\u001b[36mFile \u001b[39m\u001b[32m/workspace/.local/share/uv/python/cpython-3.11.12-linux-x86_64-gnu/lib/python3.11/pickle.py:560\u001b[39m, in \u001b[36m_Pickler.save\u001b[39m\u001b[34m(self, obj, save_persistent_id)\u001b[39m\n\u001b[32m    558\u001b[39m f = \u001b[38;5;28mself\u001b[39m.dispatch.get(t)\n\u001b[32m    559\u001b[39m \u001b[38;5;28;01mif\u001b[39;00m f \u001b[38;5;129;01mis\u001b[39;00m \u001b[38;5;129;01mnot\u001b[39;00m \u001b[38;5;28;01mNone\u001b[39;00m:\n\u001b[32m--> \u001b[39m\u001b[32m560\u001b[39m     \u001b[43mf\u001b[49m\u001b[43m(\u001b[49m\u001b[38;5;28;43mself\u001b[39;49m\u001b[43m,\u001b[49m\u001b[43m \u001b[49m\u001b[43mobj\u001b[49m\u001b[43m)\u001b[49m  \u001b[38;5;66;03m# Call unbound method with explicit self\u001b[39;00m\n\u001b[32m    561\u001b[39m     \u001b[38;5;28;01mreturn\u001b[39;00m\n\u001b[32m    563\u001b[39m \u001b[38;5;66;03m# Check private dispatch table if any, or else\u001b[39;00m\n\u001b[32m    564\u001b[39m \u001b[38;5;66;03m# copyreg.dispatch_table\u001b[39;00m\n",
      "\u001b[36mFile \u001b[39m\u001b[32m/workspace/.local/share/uv/python/cpython-3.11.12-linux-x86_64-gnu/lib/python3.11/pickle.py:902\u001b[39m, in \u001b[36m_Pickler.save_tuple\u001b[39m\u001b[34m(self, obj)\u001b[39m\n\u001b[32m    900\u001b[39m write(MARK)\n\u001b[32m    901\u001b[39m \u001b[38;5;28;01mfor\u001b[39;00m element \u001b[38;5;129;01min\u001b[39;00m obj:\n\u001b[32m--> \u001b[39m\u001b[32m902\u001b[39m     \u001b[43msave\u001b[49m\u001b[43m(\u001b[49m\u001b[43melement\u001b[49m\u001b[43m)\u001b[49m\n\u001b[32m    904\u001b[39m \u001b[38;5;28;01mif\u001b[39;00m \u001b[38;5;28mid\u001b[39m(obj) \u001b[38;5;129;01min\u001b[39;00m memo:\n\u001b[32m    905\u001b[39m     \u001b[38;5;66;03m# Subtle.  d was not in memo when we entered save_tuple(), so\u001b[39;00m\n\u001b[32m    906\u001b[39m     \u001b[38;5;66;03m# the process of saving the tuple's elements must have saved\u001b[39;00m\n\u001b[32m   (...)\u001b[39m\u001b[32m    910\u001b[39m     \u001b[38;5;66;03m# could have been done in the \"for element\" loop instead, but\u001b[39;00m\n\u001b[32m    911\u001b[39m     \u001b[38;5;66;03m# recursive tuples are a rare thing.\u001b[39;00m\n\u001b[32m    912\u001b[39m     get = \u001b[38;5;28mself\u001b[39m.get(memo[\u001b[38;5;28mid\u001b[39m(obj)][\u001b[32m0\u001b[39m])\n",
      "\u001b[36mFile \u001b[39m\u001b[32m/workspace/verifiers/.venv/lib/python3.11/site-packages/dill/_dill.py:414\u001b[39m, in \u001b[36mPickler.save\u001b[39m\u001b[34m(self, obj, save_persistent_id)\u001b[39m\n\u001b[32m    412\u001b[39m     msg = \u001b[33m\"\u001b[39m\u001b[33mCan\u001b[39m\u001b[33m'\u001b[39m\u001b[33mt pickle \u001b[39m\u001b[38;5;132;01m%s\u001b[39;00m\u001b[33m: attribute lookup builtins.generator failed\u001b[39m\u001b[33m\"\u001b[39m % GeneratorType\n\u001b[32m    413\u001b[39m     \u001b[38;5;28;01mraise\u001b[39;00m PicklingError(msg)\n\u001b[32m--> \u001b[39m\u001b[32m414\u001b[39m \u001b[43mStockPickler\u001b[49m\u001b[43m.\u001b[49m\u001b[43msave\u001b[49m\u001b[43m(\u001b[49m\u001b[38;5;28;43mself\u001b[39;49m\u001b[43m,\u001b[49m\u001b[43m \u001b[49m\u001b[43mobj\u001b[49m\u001b[43m,\u001b[49m\u001b[43m \u001b[49m\u001b[43msave_persistent_id\u001b[49m\u001b[43m)\u001b[49m\n",
      "\u001b[36mFile \u001b[39m\u001b[32m/workspace/.local/share/uv/python/cpython-3.11.12-linux-x86_64-gnu/lib/python3.11/pickle.py:560\u001b[39m, in \u001b[36m_Pickler.save\u001b[39m\u001b[34m(self, obj, save_persistent_id)\u001b[39m\n\u001b[32m    558\u001b[39m f = \u001b[38;5;28mself\u001b[39m.dispatch.get(t)\n\u001b[32m    559\u001b[39m \u001b[38;5;28;01mif\u001b[39;00m f \u001b[38;5;129;01mis\u001b[39;00m \u001b[38;5;129;01mnot\u001b[39;00m \u001b[38;5;28;01mNone\u001b[39;00m:\n\u001b[32m--> \u001b[39m\u001b[32m560\u001b[39m     \u001b[43mf\u001b[49m\u001b[43m(\u001b[49m\u001b[38;5;28;43mself\u001b[39;49m\u001b[43m,\u001b[49m\u001b[43m \u001b[49m\u001b[43mobj\u001b[49m\u001b[43m)\u001b[49m  \u001b[38;5;66;03m# Call unbound method with explicit self\u001b[39;00m\n\u001b[32m    561\u001b[39m     \u001b[38;5;28;01mreturn\u001b[39;00m\n\u001b[32m    563\u001b[39m \u001b[38;5;66;03m# Check private dispatch table if any, or else\u001b[39;00m\n\u001b[32m    564\u001b[39m \u001b[38;5;66;03m# copyreg.dispatch_table\u001b[39;00m\n",
      "\u001b[36mFile \u001b[39m\u001b[32m/workspace/.local/share/uv/python/cpython-3.11.12-linux-x86_64-gnu/lib/python3.11/pickle.py:887\u001b[39m, in \u001b[36m_Pickler.save_tuple\u001b[39m\u001b[34m(self, obj)\u001b[39m\n\u001b[32m    885\u001b[39m \u001b[38;5;28;01mif\u001b[39;00m n <= \u001b[32m3\u001b[39m \u001b[38;5;129;01mand\u001b[39;00m \u001b[38;5;28mself\u001b[39m.proto >= \u001b[32m2\u001b[39m:\n\u001b[32m    886\u001b[39m     \u001b[38;5;28;01mfor\u001b[39;00m element \u001b[38;5;129;01min\u001b[39;00m obj:\n\u001b[32m--> \u001b[39m\u001b[32m887\u001b[39m         \u001b[43msave\u001b[49m\u001b[43m(\u001b[49m\u001b[43melement\u001b[49m\u001b[43m)\u001b[49m\n\u001b[32m    888\u001b[39m     \u001b[38;5;66;03m# Subtle.  Same as in the big comment below.\u001b[39;00m\n\u001b[32m    889\u001b[39m     \u001b[38;5;28;01mif\u001b[39;00m \u001b[38;5;28mid\u001b[39m(obj) \u001b[38;5;129;01min\u001b[39;00m memo:\n",
      "\u001b[36mFile \u001b[39m\u001b[32m/workspace/verifiers/.venv/lib/python3.11/site-packages/dill/_dill.py:414\u001b[39m, in \u001b[36mPickler.save\u001b[39m\u001b[34m(self, obj, save_persistent_id)\u001b[39m\n\u001b[32m    412\u001b[39m     msg = \u001b[33m\"\u001b[39m\u001b[33mCan\u001b[39m\u001b[33m'\u001b[39m\u001b[33mt pickle \u001b[39m\u001b[38;5;132;01m%s\u001b[39;00m\u001b[33m: attribute lookup builtins.generator failed\u001b[39m\u001b[33m\"\u001b[39m % GeneratorType\n\u001b[32m    413\u001b[39m     \u001b[38;5;28;01mraise\u001b[39;00m PicklingError(msg)\n\u001b[32m--> \u001b[39m\u001b[32m414\u001b[39m \u001b[43mStockPickler\u001b[49m\u001b[43m.\u001b[49m\u001b[43msave\u001b[49m\u001b[43m(\u001b[49m\u001b[38;5;28;43mself\u001b[39;49m\u001b[43m,\u001b[49m\u001b[43m \u001b[49m\u001b[43mobj\u001b[49m\u001b[43m,\u001b[49m\u001b[43m \u001b[49m\u001b[43msave_persistent_id\u001b[49m\u001b[43m)\u001b[49m\n",
      "\u001b[36mFile \u001b[39m\u001b[32m/workspace/.local/share/uv/python/cpython-3.11.12-linux-x86_64-gnu/lib/python3.11/pickle.py:560\u001b[39m, in \u001b[36m_Pickler.save\u001b[39m\u001b[34m(self, obj, save_persistent_id)\u001b[39m\n\u001b[32m    558\u001b[39m f = \u001b[38;5;28mself\u001b[39m.dispatch.get(t)\n\u001b[32m    559\u001b[39m \u001b[38;5;28;01mif\u001b[39;00m f \u001b[38;5;129;01mis\u001b[39;00m \u001b[38;5;129;01mnot\u001b[39;00m \u001b[38;5;28;01mNone\u001b[39;00m:\n\u001b[32m--> \u001b[39m\u001b[32m560\u001b[39m     \u001b[43mf\u001b[49m\u001b[43m(\u001b[49m\u001b[38;5;28;43mself\u001b[39;49m\u001b[43m,\u001b[49m\u001b[43m \u001b[49m\u001b[43mobj\u001b[49m\u001b[43m)\u001b[49m  \u001b[38;5;66;03m# Call unbound method with explicit self\u001b[39;00m\n\u001b[32m    561\u001b[39m     \u001b[38;5;28;01mreturn\u001b[39;00m\n\u001b[32m    563\u001b[39m \u001b[38;5;66;03m# Check private dispatch table if any, or else\u001b[39;00m\n\u001b[32m    564\u001b[39m \u001b[38;5;66;03m# copyreg.dispatch_table\u001b[39;00m\n",
      "\u001b[36mFile \u001b[39m\u001b[32m/workspace/verifiers/.venv/lib/python3.11/site-packages/dill/_dill.py:1217\u001b[39m, in \u001b[36msave_module_dict\u001b[39m\u001b[34m(pickler, obj)\u001b[39m\n\u001b[32m   1214\u001b[39m     \u001b[38;5;28;01mif\u001b[39;00m is_dill(pickler, child=\u001b[38;5;28;01mFalse\u001b[39;00m) \u001b[38;5;129;01mand\u001b[39;00m pickler._session:\n\u001b[32m   1215\u001b[39m         \u001b[38;5;66;03m# we only care about session the first pass thru\u001b[39;00m\n\u001b[32m   1216\u001b[39m         pickler._first_pass = \u001b[38;5;28;01mFalse\u001b[39;00m\n\u001b[32m-> \u001b[39m\u001b[32m1217\u001b[39m     \u001b[43mStockPickler\u001b[49m\u001b[43m.\u001b[49m\u001b[43msave_dict\u001b[49m\u001b[43m(\u001b[49m\u001b[43mpickler\u001b[49m\u001b[43m,\u001b[49m\u001b[43m \u001b[49m\u001b[43mobj\u001b[49m\u001b[43m)\u001b[49m\n\u001b[32m   1218\u001b[39m     logger.trace(pickler, \u001b[33m\"\u001b[39m\u001b[33m# D2\u001b[39m\u001b[33m\"\u001b[39m)\n\u001b[32m   1219\u001b[39m \u001b[38;5;28;01mreturn\u001b[39;00m\n",
      "\u001b[36mFile \u001b[39m\u001b[32m/workspace/.local/share/uv/python/cpython-3.11.12-linux-x86_64-gnu/lib/python3.11/pickle.py:972\u001b[39m, in \u001b[36m_Pickler.save_dict\u001b[39m\u001b[34m(self, obj)\u001b[39m\n\u001b[32m    969\u001b[39m     \u001b[38;5;28mself\u001b[39m.write(MARK + DICT)\n\u001b[32m    971\u001b[39m \u001b[38;5;28mself\u001b[39m.memoize(obj)\n\u001b[32m--> \u001b[39m\u001b[32m972\u001b[39m \u001b[38;5;28;43mself\u001b[39;49m\u001b[43m.\u001b[49m\u001b[43m_batch_setitems\u001b[49m\u001b[43m(\u001b[49m\u001b[43mobj\u001b[49m\u001b[43m.\u001b[49m\u001b[43mitems\u001b[49m\u001b[43m(\u001b[49m\u001b[43m)\u001b[49m\u001b[43m)\u001b[49m\n",
      "\u001b[36mFile \u001b[39m\u001b[32m/workspace/.local/share/uv/python/cpython-3.11.12-linux-x86_64-gnu/lib/python3.11/pickle.py:998\u001b[39m, in \u001b[36m_Pickler._batch_setitems\u001b[39m\u001b[34m(self, items)\u001b[39m\n\u001b[32m    996\u001b[39m     \u001b[38;5;28;01mfor\u001b[39;00m k, v \u001b[38;5;129;01min\u001b[39;00m tmp:\n\u001b[32m    997\u001b[39m         save(k)\n\u001b[32m--> \u001b[39m\u001b[32m998\u001b[39m         \u001b[43msave\u001b[49m\u001b[43m(\u001b[49m\u001b[43mv\u001b[49m\u001b[43m)\u001b[49m\n\u001b[32m    999\u001b[39m     write(SETITEMS)\n\u001b[32m   1000\u001b[39m \u001b[38;5;28;01melif\u001b[39;00m n:\n",
      "\u001b[36mFile \u001b[39m\u001b[32m/workspace/verifiers/.venv/lib/python3.11/site-packages/dill/_dill.py:414\u001b[39m, in \u001b[36mPickler.save\u001b[39m\u001b[34m(self, obj, save_persistent_id)\u001b[39m\n\u001b[32m    412\u001b[39m     msg = \u001b[33m\"\u001b[39m\u001b[33mCan\u001b[39m\u001b[33m'\u001b[39m\u001b[33mt pickle \u001b[39m\u001b[38;5;132;01m%s\u001b[39;00m\u001b[33m: attribute lookup builtins.generator failed\u001b[39m\u001b[33m\"\u001b[39m % GeneratorType\n\u001b[32m    413\u001b[39m     \u001b[38;5;28;01mraise\u001b[39;00m PicklingError(msg)\n\u001b[32m--> \u001b[39m\u001b[32m414\u001b[39m \u001b[43mStockPickler\u001b[49m\u001b[43m.\u001b[49m\u001b[43msave\u001b[49m\u001b[43m(\u001b[49m\u001b[38;5;28;43mself\u001b[39;49m\u001b[43m,\u001b[49m\u001b[43m \u001b[49m\u001b[43mobj\u001b[49m\u001b[43m,\u001b[49m\u001b[43m \u001b[49m\u001b[43msave_persistent_id\u001b[49m\u001b[43m)\u001b[49m\n",
      "\u001b[36mFile \u001b[39m\u001b[32m/workspace/.local/share/uv/python/cpython-3.11.12-linux-x86_64-gnu/lib/python3.11/pickle.py:560\u001b[39m, in \u001b[36m_Pickler.save\u001b[39m\u001b[34m(self, obj, save_persistent_id)\u001b[39m\n\u001b[32m    558\u001b[39m f = \u001b[38;5;28mself\u001b[39m.dispatch.get(t)\n\u001b[32m    559\u001b[39m \u001b[38;5;28;01mif\u001b[39;00m f \u001b[38;5;129;01mis\u001b[39;00m \u001b[38;5;129;01mnot\u001b[39;00m \u001b[38;5;28;01mNone\u001b[39;00m:\n\u001b[32m--> \u001b[39m\u001b[32m560\u001b[39m     \u001b[43mf\u001b[49m\u001b[43m(\u001b[49m\u001b[38;5;28;43mself\u001b[39;49m\u001b[43m,\u001b[49m\u001b[43m \u001b[49m\u001b[43mobj\u001b[49m\u001b[43m)\u001b[49m  \u001b[38;5;66;03m# Call unbound method with explicit self\u001b[39;00m\n\u001b[32m    561\u001b[39m     \u001b[38;5;28;01mreturn\u001b[39;00m\n\u001b[32m    563\u001b[39m \u001b[38;5;66;03m# Check private dispatch table if any, or else\u001b[39;00m\n\u001b[32m    564\u001b[39m \u001b[38;5;66;03m# copyreg.dispatch_table\u001b[39;00m\n",
      "\u001b[36mFile \u001b[39m\u001b[32m/workspace/verifiers/.venv/lib/python3.11/site-packages/dill/_dill.py:1985\u001b[39m, in \u001b[36msave_function\u001b[39m\u001b[34m(pickler, obj)\u001b[39m\n\u001b[32m   1982\u001b[39m \u001b[38;5;28;01mif\u001b[39;00m state_dict:\n\u001b[32m   1983\u001b[39m     state = state, state_dict\n\u001b[32m-> \u001b[39m\u001b[32m1985\u001b[39m \u001b[43m_save_with_postproc\u001b[49m\u001b[43m(\u001b[49m\u001b[43mpickler\u001b[49m\u001b[43m,\u001b[49m\u001b[43m \u001b[49m\u001b[43m(\u001b[49m\u001b[43m_create_function\u001b[49m\u001b[43m,\u001b[49m\u001b[43m \u001b[49m\u001b[43m(\u001b[49m\n\u001b[32m   1986\u001b[39m \u001b[43m        \u001b[49m\u001b[43mobj\u001b[49m\u001b[43m.\u001b[49m\u001b[34;43m__code__\u001b[39;49m\u001b[43m,\u001b[49m\u001b[43m \u001b[49m\u001b[43mglobs\u001b[49m\u001b[43m,\u001b[49m\u001b[43m \u001b[49m\u001b[43mobj\u001b[49m\u001b[43m.\u001b[49m\u001b[34;43m__name__\u001b[39;49m\u001b[43m,\u001b[49m\u001b[43m \u001b[49m\u001b[43mobj\u001b[49m\u001b[43m.\u001b[49m\u001b[34;43m__defaults__\u001b[39;49m\u001b[43m,\u001b[49m\n\u001b[32m   1987\u001b[39m \u001b[43m        \u001b[49m\u001b[43mclosure\u001b[49m\n\u001b[32m   1988\u001b[39m \u001b[43m\u001b[49m\u001b[43m)\u001b[49m\u001b[43m,\u001b[49m\u001b[43m \u001b[49m\u001b[43mstate\u001b[49m\u001b[43m)\u001b[49m\u001b[43m,\u001b[49m\u001b[43m \u001b[49m\u001b[43mobj\u001b[49m\u001b[43m=\u001b[49m\u001b[43mobj\u001b[49m\u001b[43m,\u001b[49m\u001b[43m \u001b[49m\u001b[43mpostproc_list\u001b[49m\u001b[43m=\u001b[49m\u001b[43mpostproc_list\u001b[49m\u001b[43m)\u001b[49m\n\u001b[32m   1990\u001b[39m \u001b[38;5;66;03m# Lift closure cell update to earliest function (#458)\u001b[39;00m\n\u001b[32m   1991\u001b[39m \u001b[38;5;28;01mif\u001b[39;00m _postproc:\n",
      "\u001b[36mFile \u001b[39m\u001b[32m/workspace/verifiers/.venv/lib/python3.11/site-packages/dill/_dill.py:1117\u001b[39m, in \u001b[36m_save_with_postproc\u001b[39m\u001b[34m(pickler, reduction, is_pickler_dill, obj, postproc_list)\u001b[39m\n\u001b[32m   1115\u001b[39m         \u001b[38;5;28;01mcontinue\u001b[39;00m\n\u001b[32m   1116\u001b[39m \u001b[38;5;28;01melse\u001b[39;00m:\n\u001b[32m-> \u001b[39m\u001b[32m1117\u001b[39m     \u001b[43mpickler\u001b[49m\u001b[43m.\u001b[49m\u001b[43msave_reduce\u001b[49m\u001b[43m(\u001b[49m\u001b[43m*\u001b[49m\u001b[43mreduction\u001b[49m\u001b[43m)\u001b[49m\n\u001b[32m   1118\u001b[39m \u001b[38;5;66;03m# pop None created by calling preprocessing step off stack\u001b[39;00m\n\u001b[32m   1119\u001b[39m pickler.write(POP)\n",
      "\u001b[36mFile \u001b[39m\u001b[32m/workspace/.local/share/uv/python/cpython-3.11.12-linux-x86_64-gnu/lib/python3.11/pickle.py:692\u001b[39m, in \u001b[36m_Pickler.save_reduce\u001b[39m\u001b[34m(self, func, args, state, listitems, dictitems, state_setter, obj)\u001b[39m\n\u001b[32m    690\u001b[39m \u001b[38;5;28;01melse\u001b[39;00m:\n\u001b[32m    691\u001b[39m     save(func)\n\u001b[32m--> \u001b[39m\u001b[32m692\u001b[39m     \u001b[43msave\u001b[49m\u001b[43m(\u001b[49m\u001b[43margs\u001b[49m\u001b[43m)\u001b[49m\n\u001b[32m    693\u001b[39m     write(REDUCE)\n\u001b[32m    695\u001b[39m \u001b[38;5;28;01mif\u001b[39;00m obj \u001b[38;5;129;01mis\u001b[39;00m \u001b[38;5;129;01mnot\u001b[39;00m \u001b[38;5;28;01mNone\u001b[39;00m:\n\u001b[32m    696\u001b[39m     \u001b[38;5;66;03m# If the object is already in the memo, this means it is\u001b[39;00m\n\u001b[32m    697\u001b[39m     \u001b[38;5;66;03m# recursive. In this case, throw away everything we put on the\u001b[39;00m\n\u001b[32m    698\u001b[39m     \u001b[38;5;66;03m# stack, and fetch the object back from the memo.\u001b[39;00m\n",
      "\u001b[36mFile \u001b[39m\u001b[32m/workspace/verifiers/.venv/lib/python3.11/site-packages/dill/_dill.py:414\u001b[39m, in \u001b[36mPickler.save\u001b[39m\u001b[34m(self, obj, save_persistent_id)\u001b[39m\n\u001b[32m    412\u001b[39m     msg = \u001b[33m\"\u001b[39m\u001b[33mCan\u001b[39m\u001b[33m'\u001b[39m\u001b[33mt pickle \u001b[39m\u001b[38;5;132;01m%s\u001b[39;00m\u001b[33m: attribute lookup builtins.generator failed\u001b[39m\u001b[33m\"\u001b[39m % GeneratorType\n\u001b[32m    413\u001b[39m     \u001b[38;5;28;01mraise\u001b[39;00m PicklingError(msg)\n\u001b[32m--> \u001b[39m\u001b[32m414\u001b[39m \u001b[43mStockPickler\u001b[49m\u001b[43m.\u001b[49m\u001b[43msave\u001b[49m\u001b[43m(\u001b[49m\u001b[38;5;28;43mself\u001b[39;49m\u001b[43m,\u001b[49m\u001b[43m \u001b[49m\u001b[43mobj\u001b[49m\u001b[43m,\u001b[49m\u001b[43m \u001b[49m\u001b[43msave_persistent_id\u001b[49m\u001b[43m)\u001b[49m\n",
      "\u001b[36mFile \u001b[39m\u001b[32m/workspace/.local/share/uv/python/cpython-3.11.12-linux-x86_64-gnu/lib/python3.11/pickle.py:560\u001b[39m, in \u001b[36m_Pickler.save\u001b[39m\u001b[34m(self, obj, save_persistent_id)\u001b[39m\n\u001b[32m    558\u001b[39m f = \u001b[38;5;28mself\u001b[39m.dispatch.get(t)\n\u001b[32m    559\u001b[39m \u001b[38;5;28;01mif\u001b[39;00m f \u001b[38;5;129;01mis\u001b[39;00m \u001b[38;5;129;01mnot\u001b[39;00m \u001b[38;5;28;01mNone\u001b[39;00m:\n\u001b[32m--> \u001b[39m\u001b[32m560\u001b[39m     \u001b[43mf\u001b[49m\u001b[43m(\u001b[49m\u001b[38;5;28;43mself\u001b[39;49m\u001b[43m,\u001b[49m\u001b[43m \u001b[49m\u001b[43mobj\u001b[49m\u001b[43m)\u001b[49m  \u001b[38;5;66;03m# Call unbound method with explicit self\u001b[39;00m\n\u001b[32m    561\u001b[39m     \u001b[38;5;28;01mreturn\u001b[39;00m\n\u001b[32m    563\u001b[39m \u001b[38;5;66;03m# Check private dispatch table if any, or else\u001b[39;00m\n\u001b[32m    564\u001b[39m \u001b[38;5;66;03m# copyreg.dispatch_table\u001b[39;00m\n",
      "\u001b[36mFile \u001b[39m\u001b[32m/workspace/.local/share/uv/python/cpython-3.11.12-linux-x86_64-gnu/lib/python3.11/pickle.py:887\u001b[39m, in \u001b[36m_Pickler.save_tuple\u001b[39m\u001b[34m(self, obj)\u001b[39m\n\u001b[32m    885\u001b[39m \u001b[38;5;28;01mif\u001b[39;00m n <= \u001b[32m3\u001b[39m \u001b[38;5;129;01mand\u001b[39;00m \u001b[38;5;28mself\u001b[39m.proto >= \u001b[32m2\u001b[39m:\n\u001b[32m    886\u001b[39m     \u001b[38;5;28;01mfor\u001b[39;00m element \u001b[38;5;129;01min\u001b[39;00m obj:\n\u001b[32m--> \u001b[39m\u001b[32m887\u001b[39m         \u001b[43msave\u001b[49m\u001b[43m(\u001b[49m\u001b[43melement\u001b[49m\u001b[43m)\u001b[49m\n\u001b[32m    888\u001b[39m     \u001b[38;5;66;03m# Subtle.  Same as in the big comment below.\u001b[39;00m\n\u001b[32m    889\u001b[39m     \u001b[38;5;28;01mif\u001b[39;00m \u001b[38;5;28mid\u001b[39m(obj) \u001b[38;5;129;01min\u001b[39;00m memo:\n",
      "\u001b[36mFile \u001b[39m\u001b[32m/workspace/verifiers/.venv/lib/python3.11/site-packages/dill/_dill.py:414\u001b[39m, in \u001b[36mPickler.save\u001b[39m\u001b[34m(self, obj, save_persistent_id)\u001b[39m\n\u001b[32m    412\u001b[39m     msg = \u001b[33m\"\u001b[39m\u001b[33mCan\u001b[39m\u001b[33m'\u001b[39m\u001b[33mt pickle \u001b[39m\u001b[38;5;132;01m%s\u001b[39;00m\u001b[33m: attribute lookup builtins.generator failed\u001b[39m\u001b[33m\"\u001b[39m % GeneratorType\n\u001b[32m    413\u001b[39m     \u001b[38;5;28;01mraise\u001b[39;00m PicklingError(msg)\n\u001b[32m--> \u001b[39m\u001b[32m414\u001b[39m \u001b[43mStockPickler\u001b[49m\u001b[43m.\u001b[49m\u001b[43msave\u001b[49m\u001b[43m(\u001b[49m\u001b[38;5;28;43mself\u001b[39;49m\u001b[43m,\u001b[49m\u001b[43m \u001b[49m\u001b[43mobj\u001b[49m\u001b[43m,\u001b[49m\u001b[43m \u001b[49m\u001b[43msave_persistent_id\u001b[49m\u001b[43m)\u001b[49m\n",
      "\u001b[36mFile \u001b[39m\u001b[32m/workspace/.local/share/uv/python/cpython-3.11.12-linux-x86_64-gnu/lib/python3.11/pickle.py:603\u001b[39m, in \u001b[36m_Pickler.save\u001b[39m\u001b[34m(self, obj, save_persistent_id)\u001b[39m\n\u001b[32m    599\u001b[39m     \u001b[38;5;28;01mraise\u001b[39;00m PicklingError(\u001b[33m\"\u001b[39m\u001b[33mTuple returned by \u001b[39m\u001b[38;5;132;01m%s\u001b[39;00m\u001b[33m must have \u001b[39m\u001b[33m\"\u001b[39m\n\u001b[32m    600\u001b[39m                         \u001b[33m\"\u001b[39m\u001b[33mtwo to six elements\u001b[39m\u001b[33m\"\u001b[39m % reduce)\n\u001b[32m    602\u001b[39m \u001b[38;5;66;03m# Save the reduce() output and finally memoize the object\u001b[39;00m\n\u001b[32m--> \u001b[39m\u001b[32m603\u001b[39m \u001b[38;5;28;43mself\u001b[39;49m\u001b[43m.\u001b[49m\u001b[43msave_reduce\u001b[49m\u001b[43m(\u001b[49m\u001b[43mobj\u001b[49m\u001b[43m=\u001b[49m\u001b[43mobj\u001b[49m\u001b[43m,\u001b[49m\u001b[43m \u001b[49m\u001b[43m*\u001b[49m\u001b[43mrv\u001b[49m\u001b[43m)\u001b[49m\n",
      "\u001b[36mFile \u001b[39m\u001b[32m/workspace/.local/share/uv/python/cpython-3.11.12-linux-x86_64-gnu/lib/python3.11/pickle.py:717\u001b[39m, in \u001b[36m_Pickler.save_reduce\u001b[39m\u001b[34m(self, func, args, state, listitems, dictitems, state_setter, obj)\u001b[39m\n\u001b[32m    715\u001b[39m \u001b[38;5;28;01mif\u001b[39;00m state \u001b[38;5;129;01mis\u001b[39;00m \u001b[38;5;129;01mnot\u001b[39;00m \u001b[38;5;28;01mNone\u001b[39;00m:\n\u001b[32m    716\u001b[39m     \u001b[38;5;28;01mif\u001b[39;00m state_setter \u001b[38;5;129;01mis\u001b[39;00m \u001b[38;5;28;01mNone\u001b[39;00m:\n\u001b[32m--> \u001b[39m\u001b[32m717\u001b[39m         \u001b[43msave\u001b[49m\u001b[43m(\u001b[49m\u001b[43mstate\u001b[49m\u001b[43m)\u001b[49m\n\u001b[32m    718\u001b[39m         write(BUILD)\n\u001b[32m    719\u001b[39m     \u001b[38;5;28;01melse\u001b[39;00m:\n\u001b[32m    720\u001b[39m         \u001b[38;5;66;03m# If a state_setter is specified, call it instead of load_build\u001b[39;00m\n\u001b[32m    721\u001b[39m         \u001b[38;5;66;03m# to update obj's with its previous state.\u001b[39;00m\n\u001b[32m    722\u001b[39m         \u001b[38;5;66;03m# First, push state_setter and its tuple of expected arguments\u001b[39;00m\n\u001b[32m    723\u001b[39m         \u001b[38;5;66;03m# (obj, state) onto the stack.\u001b[39;00m\n",
      "\u001b[36mFile \u001b[39m\u001b[32m/workspace/verifiers/.venv/lib/python3.11/site-packages/dill/_dill.py:414\u001b[39m, in \u001b[36mPickler.save\u001b[39m\u001b[34m(self, obj, save_persistent_id)\u001b[39m\n\u001b[32m    412\u001b[39m     msg = \u001b[33m\"\u001b[39m\u001b[33mCan\u001b[39m\u001b[33m'\u001b[39m\u001b[33mt pickle \u001b[39m\u001b[38;5;132;01m%s\u001b[39;00m\u001b[33m: attribute lookup builtins.generator failed\u001b[39m\u001b[33m\"\u001b[39m % GeneratorType\n\u001b[32m    413\u001b[39m     \u001b[38;5;28;01mraise\u001b[39;00m PicklingError(msg)\n\u001b[32m--> \u001b[39m\u001b[32m414\u001b[39m \u001b[43mStockPickler\u001b[49m\u001b[43m.\u001b[49m\u001b[43msave\u001b[49m\u001b[43m(\u001b[49m\u001b[38;5;28;43mself\u001b[39;49m\u001b[43m,\u001b[49m\u001b[43m \u001b[49m\u001b[43mobj\u001b[49m\u001b[43m,\u001b[49m\u001b[43m \u001b[49m\u001b[43msave_persistent_id\u001b[49m\u001b[43m)\u001b[49m\n",
      "\u001b[36mFile \u001b[39m\u001b[32m/workspace/.local/share/uv/python/cpython-3.11.12-linux-x86_64-gnu/lib/python3.11/pickle.py:560\u001b[39m, in \u001b[36m_Pickler.save\u001b[39m\u001b[34m(self, obj, save_persistent_id)\u001b[39m\n\u001b[32m    558\u001b[39m f = \u001b[38;5;28mself\u001b[39m.dispatch.get(t)\n\u001b[32m    559\u001b[39m \u001b[38;5;28;01mif\u001b[39;00m f \u001b[38;5;129;01mis\u001b[39;00m \u001b[38;5;129;01mnot\u001b[39;00m \u001b[38;5;28;01mNone\u001b[39;00m:\n\u001b[32m--> \u001b[39m\u001b[32m560\u001b[39m     \u001b[43mf\u001b[49m\u001b[43m(\u001b[49m\u001b[38;5;28;43mself\u001b[39;49m\u001b[43m,\u001b[49m\u001b[43m \u001b[49m\u001b[43mobj\u001b[49m\u001b[43m)\u001b[49m  \u001b[38;5;66;03m# Call unbound method with explicit self\u001b[39;00m\n\u001b[32m    561\u001b[39m     \u001b[38;5;28;01mreturn\u001b[39;00m\n\u001b[32m    563\u001b[39m \u001b[38;5;66;03m# Check private dispatch table if any, or else\u001b[39;00m\n\u001b[32m    564\u001b[39m \u001b[38;5;66;03m# copyreg.dispatch_table\u001b[39;00m\n",
      "\u001b[36mFile \u001b[39m\u001b[32m/workspace/verifiers/.venv/lib/python3.11/site-packages/dill/_dill.py:1217\u001b[39m, in \u001b[36msave_module_dict\u001b[39m\u001b[34m(pickler, obj)\u001b[39m\n\u001b[32m   1214\u001b[39m     \u001b[38;5;28;01mif\u001b[39;00m is_dill(pickler, child=\u001b[38;5;28;01mFalse\u001b[39;00m) \u001b[38;5;129;01mand\u001b[39;00m pickler._session:\n\u001b[32m   1215\u001b[39m         \u001b[38;5;66;03m# we only care about session the first pass thru\u001b[39;00m\n\u001b[32m   1216\u001b[39m         pickler._first_pass = \u001b[38;5;28;01mFalse\u001b[39;00m\n\u001b[32m-> \u001b[39m\u001b[32m1217\u001b[39m     \u001b[43mStockPickler\u001b[49m\u001b[43m.\u001b[49m\u001b[43msave_dict\u001b[49m\u001b[43m(\u001b[49m\u001b[43mpickler\u001b[49m\u001b[43m,\u001b[49m\u001b[43m \u001b[49m\u001b[43mobj\u001b[49m\u001b[43m)\u001b[49m\n\u001b[32m   1218\u001b[39m     logger.trace(pickler, \u001b[33m\"\u001b[39m\u001b[33m# D2\u001b[39m\u001b[33m\"\u001b[39m)\n\u001b[32m   1219\u001b[39m \u001b[38;5;28;01mreturn\u001b[39;00m\n",
      "\u001b[36mFile \u001b[39m\u001b[32m/workspace/.local/share/uv/python/cpython-3.11.12-linux-x86_64-gnu/lib/python3.11/pickle.py:972\u001b[39m, in \u001b[36m_Pickler.save_dict\u001b[39m\u001b[34m(self, obj)\u001b[39m\n\u001b[32m    969\u001b[39m     \u001b[38;5;28mself\u001b[39m.write(MARK + DICT)\n\u001b[32m    971\u001b[39m \u001b[38;5;28mself\u001b[39m.memoize(obj)\n\u001b[32m--> \u001b[39m\u001b[32m972\u001b[39m \u001b[38;5;28;43mself\u001b[39;49m\u001b[43m.\u001b[49m\u001b[43m_batch_setitems\u001b[49m\u001b[43m(\u001b[49m\u001b[43mobj\u001b[49m\u001b[43m.\u001b[49m\u001b[43mitems\u001b[49m\u001b[43m(\u001b[49m\u001b[43m)\u001b[49m\u001b[43m)\u001b[49m\n",
      "\u001b[36mFile \u001b[39m\u001b[32m/workspace/.local/share/uv/python/cpython-3.11.12-linux-x86_64-gnu/lib/python3.11/pickle.py:998\u001b[39m, in \u001b[36m_Pickler._batch_setitems\u001b[39m\u001b[34m(self, items)\u001b[39m\n\u001b[32m    996\u001b[39m     \u001b[38;5;28;01mfor\u001b[39;00m k, v \u001b[38;5;129;01min\u001b[39;00m tmp:\n\u001b[32m    997\u001b[39m         save(k)\n\u001b[32m--> \u001b[39m\u001b[32m998\u001b[39m         \u001b[43msave\u001b[49m\u001b[43m(\u001b[49m\u001b[43mv\u001b[49m\u001b[43m)\u001b[49m\n\u001b[32m    999\u001b[39m     write(SETITEMS)\n\u001b[32m   1000\u001b[39m \u001b[38;5;28;01melif\u001b[39;00m n:\n",
      "    \u001b[31m[... skipping similar frames: Pickler.save at line 414 (1 times)]\u001b[39m\n",
      "\u001b[36mFile \u001b[39m\u001b[32m/workspace/.local/share/uv/python/cpython-3.11.12-linux-x86_64-gnu/lib/python3.11/pickle.py:603\u001b[39m, in \u001b[36m_Pickler.save\u001b[39m\u001b[34m(self, obj, save_persistent_id)\u001b[39m\n\u001b[32m    599\u001b[39m     \u001b[38;5;28;01mraise\u001b[39;00m PicklingError(\u001b[33m\"\u001b[39m\u001b[33mTuple returned by \u001b[39m\u001b[38;5;132;01m%s\u001b[39;00m\u001b[33m must have \u001b[39m\u001b[33m\"\u001b[39m\n\u001b[32m    600\u001b[39m                         \u001b[33m\"\u001b[39m\u001b[33mtwo to six elements\u001b[39m\u001b[33m\"\u001b[39m % reduce)\n\u001b[32m    602\u001b[39m \u001b[38;5;66;03m# Save the reduce() output and finally memoize the object\u001b[39;00m\n\u001b[32m--> \u001b[39m\u001b[32m603\u001b[39m \u001b[38;5;28;43mself\u001b[39;49m\u001b[43m.\u001b[49m\u001b[43msave_reduce\u001b[49m\u001b[43m(\u001b[49m\u001b[43mobj\u001b[49m\u001b[43m=\u001b[49m\u001b[43mobj\u001b[49m\u001b[43m,\u001b[49m\u001b[43m \u001b[49m\u001b[43m*\u001b[49m\u001b[43mrv\u001b[49m\u001b[43m)\u001b[49m\n",
      "\u001b[36mFile \u001b[39m\u001b[32m/workspace/.local/share/uv/python/cpython-3.11.12-linux-x86_64-gnu/lib/python3.11/pickle.py:717\u001b[39m, in \u001b[36m_Pickler.save_reduce\u001b[39m\u001b[34m(self, func, args, state, listitems, dictitems, state_setter, obj)\u001b[39m\n\u001b[32m    715\u001b[39m \u001b[38;5;28;01mif\u001b[39;00m state \u001b[38;5;129;01mis\u001b[39;00m \u001b[38;5;129;01mnot\u001b[39;00m \u001b[38;5;28;01mNone\u001b[39;00m:\n\u001b[32m    716\u001b[39m     \u001b[38;5;28;01mif\u001b[39;00m state_setter \u001b[38;5;129;01mis\u001b[39;00m \u001b[38;5;28;01mNone\u001b[39;00m:\n\u001b[32m--> \u001b[39m\u001b[32m717\u001b[39m         \u001b[43msave\u001b[49m\u001b[43m(\u001b[49m\u001b[43mstate\u001b[49m\u001b[43m)\u001b[49m\n\u001b[32m    718\u001b[39m         write(BUILD)\n\u001b[32m    719\u001b[39m     \u001b[38;5;28;01melse\u001b[39;00m:\n\u001b[32m    720\u001b[39m         \u001b[38;5;66;03m# If a state_setter is specified, call it instead of load_build\u001b[39;00m\n\u001b[32m    721\u001b[39m         \u001b[38;5;66;03m# to update obj's with its previous state.\u001b[39;00m\n\u001b[32m    722\u001b[39m         \u001b[38;5;66;03m# First, push state_setter and its tuple of expected arguments\u001b[39;00m\n\u001b[32m    723\u001b[39m         \u001b[38;5;66;03m# (obj, state) onto the stack.\u001b[39;00m\n",
      "    \u001b[31m[... skipping similar frames: Pickler.save at line 414 (1 times)]\u001b[39m\n",
      "\u001b[36mFile \u001b[39m\u001b[32m/workspace/.local/share/uv/python/cpython-3.11.12-linux-x86_64-gnu/lib/python3.11/pickle.py:560\u001b[39m, in \u001b[36m_Pickler.save\u001b[39m\u001b[34m(self, obj, save_persistent_id)\u001b[39m\n\u001b[32m    558\u001b[39m f = \u001b[38;5;28mself\u001b[39m.dispatch.get(t)\n\u001b[32m    559\u001b[39m \u001b[38;5;28;01mif\u001b[39;00m f \u001b[38;5;129;01mis\u001b[39;00m \u001b[38;5;129;01mnot\u001b[39;00m \u001b[38;5;28;01mNone\u001b[39;00m:\n\u001b[32m--> \u001b[39m\u001b[32m560\u001b[39m     \u001b[43mf\u001b[49m\u001b[43m(\u001b[49m\u001b[38;5;28;43mself\u001b[39;49m\u001b[43m,\u001b[49m\u001b[43m \u001b[49m\u001b[43mobj\u001b[49m\u001b[43m)\u001b[49m  \u001b[38;5;66;03m# Call unbound method with explicit self\u001b[39;00m\n\u001b[32m    561\u001b[39m     \u001b[38;5;28;01mreturn\u001b[39;00m\n\u001b[32m    563\u001b[39m \u001b[38;5;66;03m# Check private dispatch table if any, or else\u001b[39;00m\n\u001b[32m    564\u001b[39m \u001b[38;5;66;03m# copyreg.dispatch_table\u001b[39;00m\n",
      "\u001b[36mFile \u001b[39m\u001b[32m/workspace/verifiers/.venv/lib/python3.11/site-packages/dill/_dill.py:1217\u001b[39m, in \u001b[36msave_module_dict\u001b[39m\u001b[34m(pickler, obj)\u001b[39m\n\u001b[32m   1214\u001b[39m     \u001b[38;5;28;01mif\u001b[39;00m is_dill(pickler, child=\u001b[38;5;28;01mFalse\u001b[39;00m) \u001b[38;5;129;01mand\u001b[39;00m pickler._session:\n\u001b[32m   1215\u001b[39m         \u001b[38;5;66;03m# we only care about session the first pass thru\u001b[39;00m\n\u001b[32m   1216\u001b[39m         pickler._first_pass = \u001b[38;5;28;01mFalse\u001b[39;00m\n\u001b[32m-> \u001b[39m\u001b[32m1217\u001b[39m     \u001b[43mStockPickler\u001b[49m\u001b[43m.\u001b[49m\u001b[43msave_dict\u001b[49m\u001b[43m(\u001b[49m\u001b[43mpickler\u001b[49m\u001b[43m,\u001b[49m\u001b[43m \u001b[49m\u001b[43mobj\u001b[49m\u001b[43m)\u001b[49m\n\u001b[32m   1218\u001b[39m     logger.trace(pickler, \u001b[33m\"\u001b[39m\u001b[33m# D2\u001b[39m\u001b[33m\"\u001b[39m)\n\u001b[32m   1219\u001b[39m \u001b[38;5;28;01mreturn\u001b[39;00m\n",
      "\u001b[36mFile \u001b[39m\u001b[32m/workspace/.local/share/uv/python/cpython-3.11.12-linux-x86_64-gnu/lib/python3.11/pickle.py:972\u001b[39m, in \u001b[36m_Pickler.save_dict\u001b[39m\u001b[34m(self, obj)\u001b[39m\n\u001b[32m    969\u001b[39m     \u001b[38;5;28mself\u001b[39m.write(MARK + DICT)\n\u001b[32m    971\u001b[39m \u001b[38;5;28mself\u001b[39m.memoize(obj)\n\u001b[32m--> \u001b[39m\u001b[32m972\u001b[39m \u001b[38;5;28;43mself\u001b[39;49m\u001b[43m.\u001b[49m\u001b[43m_batch_setitems\u001b[49m\u001b[43m(\u001b[49m\u001b[43mobj\u001b[49m\u001b[43m.\u001b[49m\u001b[43mitems\u001b[49m\u001b[43m(\u001b[49m\u001b[43m)\u001b[49m\u001b[43m)\u001b[49m\n",
      "\u001b[36mFile \u001b[39m\u001b[32m/workspace/.local/share/uv/python/cpython-3.11.12-linux-x86_64-gnu/lib/python3.11/pickle.py:998\u001b[39m, in \u001b[36m_Pickler._batch_setitems\u001b[39m\u001b[34m(self, items)\u001b[39m\n\u001b[32m    996\u001b[39m     \u001b[38;5;28;01mfor\u001b[39;00m k, v \u001b[38;5;129;01min\u001b[39;00m tmp:\n\u001b[32m    997\u001b[39m         save(k)\n\u001b[32m--> \u001b[39m\u001b[32m998\u001b[39m         \u001b[43msave\u001b[49m\u001b[43m(\u001b[49m\u001b[43mv\u001b[49m\u001b[43m)\u001b[49m\n\u001b[32m    999\u001b[39m     write(SETITEMS)\n\u001b[32m   1000\u001b[39m \u001b[38;5;28;01melif\u001b[39;00m n:\n",
      "    \u001b[31m[... skipping similar frames: Pickler.save at line 414 (2 times), _Pickler.save at line 603 (1 times), _Pickler.save at line 560 (1 times), _Pickler.save_dict at line 972 (1 times), save_module_dict at line 1217 (1 times), _Pickler.save_reduce at line 717 (1 times)]\u001b[39m\n",
      "\u001b[36mFile \u001b[39m\u001b[32m/workspace/.local/share/uv/python/cpython-3.11.12-linux-x86_64-gnu/lib/python3.11/pickle.py:998\u001b[39m, in \u001b[36m_Pickler._batch_setitems\u001b[39m\u001b[34m(self, items)\u001b[39m\n\u001b[32m    996\u001b[39m     \u001b[38;5;28;01mfor\u001b[39;00m k, v \u001b[38;5;129;01min\u001b[39;00m tmp:\n\u001b[32m    997\u001b[39m         save(k)\n\u001b[32m--> \u001b[39m\u001b[32m998\u001b[39m         \u001b[43msave\u001b[49m\u001b[43m(\u001b[49m\u001b[43mv\u001b[49m\u001b[43m)\u001b[49m\n\u001b[32m    999\u001b[39m     write(SETITEMS)\n\u001b[32m   1000\u001b[39m \u001b[38;5;28;01melif\u001b[39;00m n:\n",
      "    \u001b[31m[... skipping similar frames: Pickler.save at line 414 (1 times)]\u001b[39m\n",
      "\u001b[36mFile \u001b[39m\u001b[32m/workspace/.local/share/uv/python/cpython-3.11.12-linux-x86_64-gnu/lib/python3.11/pickle.py:603\u001b[39m, in \u001b[36m_Pickler.save\u001b[39m\u001b[34m(self, obj, save_persistent_id)\u001b[39m\n\u001b[32m    599\u001b[39m     \u001b[38;5;28;01mraise\u001b[39;00m PicklingError(\u001b[33m\"\u001b[39m\u001b[33mTuple returned by \u001b[39m\u001b[38;5;132;01m%s\u001b[39;00m\u001b[33m must have \u001b[39m\u001b[33m\"\u001b[39m\n\u001b[32m    600\u001b[39m                         \u001b[33m\"\u001b[39m\u001b[33mtwo to six elements\u001b[39m\u001b[33m\"\u001b[39m % reduce)\n\u001b[32m    602\u001b[39m \u001b[38;5;66;03m# Save the reduce() output and finally memoize the object\u001b[39;00m\n\u001b[32m--> \u001b[39m\u001b[32m603\u001b[39m \u001b[38;5;28;43mself\u001b[39;49m\u001b[43m.\u001b[49m\u001b[43msave_reduce\u001b[49m\u001b[43m(\u001b[49m\u001b[43mobj\u001b[49m\u001b[43m=\u001b[49m\u001b[43mobj\u001b[49m\u001b[43m,\u001b[49m\u001b[43m \u001b[49m\u001b[43m*\u001b[49m\u001b[43mrv\u001b[49m\u001b[43m)\u001b[49m\n",
      "\u001b[36mFile \u001b[39m\u001b[32m/workspace/.local/share/uv/python/cpython-3.11.12-linux-x86_64-gnu/lib/python3.11/pickle.py:717\u001b[39m, in \u001b[36m_Pickler.save_reduce\u001b[39m\u001b[34m(self, func, args, state, listitems, dictitems, state_setter, obj)\u001b[39m\n\u001b[32m    715\u001b[39m \u001b[38;5;28;01mif\u001b[39;00m state \u001b[38;5;129;01mis\u001b[39;00m \u001b[38;5;129;01mnot\u001b[39;00m \u001b[38;5;28;01mNone\u001b[39;00m:\n\u001b[32m    716\u001b[39m     \u001b[38;5;28;01mif\u001b[39;00m state_setter \u001b[38;5;129;01mis\u001b[39;00m \u001b[38;5;28;01mNone\u001b[39;00m:\n\u001b[32m--> \u001b[39m\u001b[32m717\u001b[39m         \u001b[43msave\u001b[49m\u001b[43m(\u001b[49m\u001b[43mstate\u001b[49m\u001b[43m)\u001b[49m\n\u001b[32m    718\u001b[39m         write(BUILD)\n\u001b[32m    719\u001b[39m     \u001b[38;5;28;01melse\u001b[39;00m:\n\u001b[32m    720\u001b[39m         \u001b[38;5;66;03m# If a state_setter is specified, call it instead of load_build\u001b[39;00m\n\u001b[32m    721\u001b[39m         \u001b[38;5;66;03m# to update obj's with its previous state.\u001b[39;00m\n\u001b[32m    722\u001b[39m         \u001b[38;5;66;03m# First, push state_setter and its tuple of expected arguments\u001b[39;00m\n\u001b[32m    723\u001b[39m         \u001b[38;5;66;03m# (obj, state) onto the stack.\u001b[39;00m\n",
      "\u001b[36mFile \u001b[39m\u001b[32m/workspace/verifiers/.venv/lib/python3.11/site-packages/dill/_dill.py:414\u001b[39m, in \u001b[36mPickler.save\u001b[39m\u001b[34m(self, obj, save_persistent_id)\u001b[39m\n\u001b[32m    412\u001b[39m     msg = \u001b[33m\"\u001b[39m\u001b[33mCan\u001b[39m\u001b[33m'\u001b[39m\u001b[33mt pickle \u001b[39m\u001b[38;5;132;01m%s\u001b[39;00m\u001b[33m: attribute lookup builtins.generator failed\u001b[39m\u001b[33m\"\u001b[39m % GeneratorType\n\u001b[32m    413\u001b[39m     \u001b[38;5;28;01mraise\u001b[39;00m PicklingError(msg)\n\u001b[32m--> \u001b[39m\u001b[32m414\u001b[39m \u001b[43mStockPickler\u001b[49m\u001b[43m.\u001b[49m\u001b[43msave\u001b[49m\u001b[43m(\u001b[49m\u001b[38;5;28;43mself\u001b[39;49m\u001b[43m,\u001b[49m\u001b[43m \u001b[49m\u001b[43mobj\u001b[49m\u001b[43m,\u001b[49m\u001b[43m \u001b[49m\u001b[43msave_persistent_id\u001b[49m\u001b[43m)\u001b[49m\n",
      "\u001b[36mFile \u001b[39m\u001b[32m/workspace/.local/share/uv/python/cpython-3.11.12-linux-x86_64-gnu/lib/python3.11/pickle.py:560\u001b[39m, in \u001b[36m_Pickler.save\u001b[39m\u001b[34m(self, obj, save_persistent_id)\u001b[39m\n\u001b[32m    558\u001b[39m f = \u001b[38;5;28mself\u001b[39m.dispatch.get(t)\n\u001b[32m    559\u001b[39m \u001b[38;5;28;01mif\u001b[39;00m f \u001b[38;5;129;01mis\u001b[39;00m \u001b[38;5;129;01mnot\u001b[39;00m \u001b[38;5;28;01mNone\u001b[39;00m:\n\u001b[32m--> \u001b[39m\u001b[32m560\u001b[39m     \u001b[43mf\u001b[49m\u001b[43m(\u001b[49m\u001b[38;5;28;43mself\u001b[39;49m\u001b[43m,\u001b[49m\u001b[43m \u001b[49m\u001b[43mobj\u001b[49m\u001b[43m)\u001b[49m  \u001b[38;5;66;03m# Call unbound method with explicit self\u001b[39;00m\n\u001b[32m    561\u001b[39m     \u001b[38;5;28;01mreturn\u001b[39;00m\n\u001b[32m    563\u001b[39m \u001b[38;5;66;03m# Check private dispatch table if any, or else\u001b[39;00m\n\u001b[32m    564\u001b[39m \u001b[38;5;66;03m# copyreg.dispatch_table\u001b[39;00m\n",
      "\u001b[36mFile \u001b[39m\u001b[32m/workspace/verifiers/.venv/lib/python3.11/site-packages/dill/_dill.py:1217\u001b[39m, in \u001b[36msave_module_dict\u001b[39m\u001b[34m(pickler, obj)\u001b[39m\n\u001b[32m   1214\u001b[39m     \u001b[38;5;28;01mif\u001b[39;00m is_dill(pickler, child=\u001b[38;5;28;01mFalse\u001b[39;00m) \u001b[38;5;129;01mand\u001b[39;00m pickler._session:\n\u001b[32m   1215\u001b[39m         \u001b[38;5;66;03m# we only care about session the first pass thru\u001b[39;00m\n\u001b[32m   1216\u001b[39m         pickler._first_pass = \u001b[38;5;28;01mFalse\u001b[39;00m\n\u001b[32m-> \u001b[39m\u001b[32m1217\u001b[39m     \u001b[43mStockPickler\u001b[49m\u001b[43m.\u001b[49m\u001b[43msave_dict\u001b[49m\u001b[43m(\u001b[49m\u001b[43mpickler\u001b[49m\u001b[43m,\u001b[49m\u001b[43m \u001b[49m\u001b[43mobj\u001b[49m\u001b[43m)\u001b[49m\n\u001b[32m   1218\u001b[39m     logger.trace(pickler, \u001b[33m\"\u001b[39m\u001b[33m# D2\u001b[39m\u001b[33m\"\u001b[39m)\n\u001b[32m   1219\u001b[39m \u001b[38;5;28;01mreturn\u001b[39;00m\n",
      "\u001b[36mFile \u001b[39m\u001b[32m/workspace/.local/share/uv/python/cpython-3.11.12-linux-x86_64-gnu/lib/python3.11/pickle.py:972\u001b[39m, in \u001b[36m_Pickler.save_dict\u001b[39m\u001b[34m(self, obj)\u001b[39m\n\u001b[32m    969\u001b[39m     \u001b[38;5;28mself\u001b[39m.write(MARK + DICT)\n\u001b[32m    971\u001b[39m \u001b[38;5;28mself\u001b[39m.memoize(obj)\n\u001b[32m--> \u001b[39m\u001b[32m972\u001b[39m \u001b[38;5;28;43mself\u001b[39;49m\u001b[43m.\u001b[49m\u001b[43m_batch_setitems\u001b[49m\u001b[43m(\u001b[49m\u001b[43mobj\u001b[49m\u001b[43m.\u001b[49m\u001b[43mitems\u001b[49m\u001b[43m(\u001b[49m\u001b[43m)\u001b[49m\u001b[43m)\u001b[49m\n",
      "\u001b[36mFile \u001b[39m\u001b[32m/workspace/.local/share/uv/python/cpython-3.11.12-linux-x86_64-gnu/lib/python3.11/pickle.py:1003\u001b[39m, in \u001b[36m_Pickler._batch_setitems\u001b[39m\u001b[34m(self, items)\u001b[39m\n\u001b[32m   1001\u001b[39m     k, v = tmp[\u001b[32m0\u001b[39m]\n\u001b[32m   1002\u001b[39m     save(k)\n\u001b[32m-> \u001b[39m\u001b[32m1003\u001b[39m     \u001b[43msave\u001b[49m\u001b[43m(\u001b[49m\u001b[43mv\u001b[49m\u001b[43m)\u001b[49m\n\u001b[32m   1004\u001b[39m     write(SETITEM)\n\u001b[32m   1005\u001b[39m \u001b[38;5;66;03m# else tmp is empty, and we're done\u001b[39;00m\n",
      "\u001b[36mFile \u001b[39m\u001b[32m/workspace/verifiers/.venv/lib/python3.11/site-packages/dill/_dill.py:414\u001b[39m, in \u001b[36mPickler.save\u001b[39m\u001b[34m(self, obj, save_persistent_id)\u001b[39m\n\u001b[32m    412\u001b[39m     msg = \u001b[33m\"\u001b[39m\u001b[33mCan\u001b[39m\u001b[33m'\u001b[39m\u001b[33mt pickle \u001b[39m\u001b[38;5;132;01m%s\u001b[39;00m\u001b[33m: attribute lookup builtins.generator failed\u001b[39m\u001b[33m\"\u001b[39m % GeneratorType\n\u001b[32m    413\u001b[39m     \u001b[38;5;28;01mraise\u001b[39;00m PicklingError(msg)\n\u001b[32m--> \u001b[39m\u001b[32m414\u001b[39m \u001b[43mStockPickler\u001b[49m\u001b[43m.\u001b[49m\u001b[43msave\u001b[49m\u001b[43m(\u001b[49m\u001b[38;5;28;43mself\u001b[39;49m\u001b[43m,\u001b[49m\u001b[43m \u001b[49m\u001b[43mobj\u001b[49m\u001b[43m,\u001b[49m\u001b[43m \u001b[49m\u001b[43msave_persistent_id\u001b[49m\u001b[43m)\u001b[49m\n",
      "\u001b[36mFile \u001b[39m\u001b[32m/workspace/.local/share/uv/python/cpython-3.11.12-linux-x86_64-gnu/lib/python3.11/pickle.py:603\u001b[39m, in \u001b[36m_Pickler.save\u001b[39m\u001b[34m(self, obj, save_persistent_id)\u001b[39m\n\u001b[32m    599\u001b[39m     \u001b[38;5;28;01mraise\u001b[39;00m PicklingError(\u001b[33m\"\u001b[39m\u001b[33mTuple returned by \u001b[39m\u001b[38;5;132;01m%s\u001b[39;00m\u001b[33m must have \u001b[39m\u001b[33m\"\u001b[39m\n\u001b[32m    600\u001b[39m                         \u001b[33m\"\u001b[39m\u001b[33mtwo to six elements\u001b[39m\u001b[33m\"\u001b[39m % reduce)\n\u001b[32m    602\u001b[39m \u001b[38;5;66;03m# Save the reduce() output and finally memoize the object\u001b[39;00m\n\u001b[32m--> \u001b[39m\u001b[32m603\u001b[39m \u001b[38;5;28;43mself\u001b[39;49m\u001b[43m.\u001b[49m\u001b[43msave_reduce\u001b[49m\u001b[43m(\u001b[49m\u001b[43mobj\u001b[49m\u001b[43m=\u001b[49m\u001b[43mobj\u001b[49m\u001b[43m,\u001b[49m\u001b[43m \u001b[49m\u001b[43m*\u001b[49m\u001b[43mrv\u001b[49m\u001b[43m)\u001b[49m\n",
      "\u001b[36mFile \u001b[39m\u001b[32m/workspace/.local/share/uv/python/cpython-3.11.12-linux-x86_64-gnu/lib/python3.11/pickle.py:717\u001b[39m, in \u001b[36m_Pickler.save_reduce\u001b[39m\u001b[34m(self, func, args, state, listitems, dictitems, state_setter, obj)\u001b[39m\n\u001b[32m    715\u001b[39m \u001b[38;5;28;01mif\u001b[39;00m state \u001b[38;5;129;01mis\u001b[39;00m \u001b[38;5;129;01mnot\u001b[39;00m \u001b[38;5;28;01mNone\u001b[39;00m:\n\u001b[32m    716\u001b[39m     \u001b[38;5;28;01mif\u001b[39;00m state_setter \u001b[38;5;129;01mis\u001b[39;00m \u001b[38;5;28;01mNone\u001b[39;00m:\n\u001b[32m--> \u001b[39m\u001b[32m717\u001b[39m         \u001b[43msave\u001b[49m\u001b[43m(\u001b[49m\u001b[43mstate\u001b[49m\u001b[43m)\u001b[49m\n\u001b[32m    718\u001b[39m         write(BUILD)\n\u001b[32m    719\u001b[39m     \u001b[38;5;28;01melse\u001b[39;00m:\n\u001b[32m    720\u001b[39m         \u001b[38;5;66;03m# If a state_setter is specified, call it instead of load_build\u001b[39;00m\n\u001b[32m    721\u001b[39m         \u001b[38;5;66;03m# to update obj's with its previous state.\u001b[39;00m\n\u001b[32m    722\u001b[39m         \u001b[38;5;66;03m# First, push state_setter and its tuple of expected arguments\u001b[39;00m\n\u001b[32m    723\u001b[39m         \u001b[38;5;66;03m# (obj, state) onto the stack.\u001b[39;00m\n",
      "\u001b[36mFile \u001b[39m\u001b[32m/workspace/verifiers/.venv/lib/python3.11/site-packages/dill/_dill.py:414\u001b[39m, in \u001b[36mPickler.save\u001b[39m\u001b[34m(self, obj, save_persistent_id)\u001b[39m\n\u001b[32m    412\u001b[39m     msg = \u001b[33m\"\u001b[39m\u001b[33mCan\u001b[39m\u001b[33m'\u001b[39m\u001b[33mt pickle \u001b[39m\u001b[38;5;132;01m%s\u001b[39;00m\u001b[33m: attribute lookup builtins.generator failed\u001b[39m\u001b[33m\"\u001b[39m % GeneratorType\n\u001b[32m    413\u001b[39m     \u001b[38;5;28;01mraise\u001b[39;00m PicklingError(msg)\n\u001b[32m--> \u001b[39m\u001b[32m414\u001b[39m \u001b[43mStockPickler\u001b[49m\u001b[43m.\u001b[49m\u001b[43msave\u001b[49m\u001b[43m(\u001b[49m\u001b[38;5;28;43mself\u001b[39;49m\u001b[43m,\u001b[49m\u001b[43m \u001b[49m\u001b[43mobj\u001b[49m\u001b[43m,\u001b[49m\u001b[43m \u001b[49m\u001b[43msave_persistent_id\u001b[49m\u001b[43m)\u001b[49m\n",
      "\u001b[36mFile \u001b[39m\u001b[32m/workspace/.local/share/uv/python/cpython-3.11.12-linux-x86_64-gnu/lib/python3.11/pickle.py:560\u001b[39m, in \u001b[36m_Pickler.save\u001b[39m\u001b[34m(self, obj, save_persistent_id)\u001b[39m\n\u001b[32m    558\u001b[39m f = \u001b[38;5;28mself\u001b[39m.dispatch.get(t)\n\u001b[32m    559\u001b[39m \u001b[38;5;28;01mif\u001b[39;00m f \u001b[38;5;129;01mis\u001b[39;00m \u001b[38;5;129;01mnot\u001b[39;00m \u001b[38;5;28;01mNone\u001b[39;00m:\n\u001b[32m--> \u001b[39m\u001b[32m560\u001b[39m     \u001b[43mf\u001b[49m\u001b[43m(\u001b[49m\u001b[38;5;28;43mself\u001b[39;49m\u001b[43m,\u001b[49m\u001b[43m \u001b[49m\u001b[43mobj\u001b[49m\u001b[43m)\u001b[49m  \u001b[38;5;66;03m# Call unbound method with explicit self\u001b[39;00m\n\u001b[32m    561\u001b[39m     \u001b[38;5;28;01mreturn\u001b[39;00m\n\u001b[32m    563\u001b[39m \u001b[38;5;66;03m# Check private dispatch table if any, or else\u001b[39;00m\n\u001b[32m    564\u001b[39m \u001b[38;5;66;03m# copyreg.dispatch_table\u001b[39;00m\n",
      "\u001b[36mFile \u001b[39m\u001b[32m/workspace/verifiers/.venv/lib/python3.11/site-packages/dill/_dill.py:1217\u001b[39m, in \u001b[36msave_module_dict\u001b[39m\u001b[34m(pickler, obj)\u001b[39m\n\u001b[32m   1214\u001b[39m     \u001b[38;5;28;01mif\u001b[39;00m is_dill(pickler, child=\u001b[38;5;28;01mFalse\u001b[39;00m) \u001b[38;5;129;01mand\u001b[39;00m pickler._session:\n\u001b[32m   1215\u001b[39m         \u001b[38;5;66;03m# we only care about session the first pass thru\u001b[39;00m\n\u001b[32m   1216\u001b[39m         pickler._first_pass = \u001b[38;5;28;01mFalse\u001b[39;00m\n\u001b[32m-> \u001b[39m\u001b[32m1217\u001b[39m     \u001b[43mStockPickler\u001b[49m\u001b[43m.\u001b[49m\u001b[43msave_dict\u001b[49m\u001b[43m(\u001b[49m\u001b[43mpickler\u001b[49m\u001b[43m,\u001b[49m\u001b[43m \u001b[49m\u001b[43mobj\u001b[49m\u001b[43m)\u001b[49m\n\u001b[32m   1218\u001b[39m     logger.trace(pickler, \u001b[33m\"\u001b[39m\u001b[33m# D2\u001b[39m\u001b[33m\"\u001b[39m)\n\u001b[32m   1219\u001b[39m \u001b[38;5;28;01mreturn\u001b[39;00m\n",
      "\u001b[36mFile \u001b[39m\u001b[32m/workspace/.local/share/uv/python/cpython-3.11.12-linux-x86_64-gnu/lib/python3.11/pickle.py:972\u001b[39m, in \u001b[36m_Pickler.save_dict\u001b[39m\u001b[34m(self, obj)\u001b[39m\n\u001b[32m    969\u001b[39m     \u001b[38;5;28mself\u001b[39m.write(MARK + DICT)\n\u001b[32m    971\u001b[39m \u001b[38;5;28mself\u001b[39m.memoize(obj)\n\u001b[32m--> \u001b[39m\u001b[32m972\u001b[39m \u001b[38;5;28;43mself\u001b[39;49m\u001b[43m.\u001b[49m\u001b[43m_batch_setitems\u001b[49m\u001b[43m(\u001b[49m\u001b[43mobj\u001b[49m\u001b[43m.\u001b[49m\u001b[43mitems\u001b[49m\u001b[43m(\u001b[49m\u001b[43m)\u001b[49m\u001b[43m)\u001b[49m\n",
      "\u001b[36mFile \u001b[39m\u001b[32m/workspace/.local/share/uv/python/cpython-3.11.12-linux-x86_64-gnu/lib/python3.11/pickle.py:998\u001b[39m, in \u001b[36m_Pickler._batch_setitems\u001b[39m\u001b[34m(self, items)\u001b[39m\n\u001b[32m    996\u001b[39m     \u001b[38;5;28;01mfor\u001b[39;00m k, v \u001b[38;5;129;01min\u001b[39;00m tmp:\n\u001b[32m    997\u001b[39m         save(k)\n\u001b[32m--> \u001b[39m\u001b[32m998\u001b[39m         \u001b[43msave\u001b[49m\u001b[43m(\u001b[49m\u001b[43mv\u001b[49m\u001b[43m)\u001b[49m\n\u001b[32m    999\u001b[39m     write(SETITEMS)\n\u001b[32m   1000\u001b[39m \u001b[38;5;28;01melif\u001b[39;00m n:\n",
      "\u001b[36mFile \u001b[39m\u001b[32m/workspace/verifiers/.venv/lib/python3.11/site-packages/dill/_dill.py:414\u001b[39m, in \u001b[36mPickler.save\u001b[39m\u001b[34m(self, obj, save_persistent_id)\u001b[39m\n\u001b[32m    412\u001b[39m     msg = \u001b[33m\"\u001b[39m\u001b[33mCan\u001b[39m\u001b[33m'\u001b[39m\u001b[33mt pickle \u001b[39m\u001b[38;5;132;01m%s\u001b[39;00m\u001b[33m: attribute lookup builtins.generator failed\u001b[39m\u001b[33m\"\u001b[39m % GeneratorType\n\u001b[32m    413\u001b[39m     \u001b[38;5;28;01mraise\u001b[39;00m PicklingError(msg)\n\u001b[32m--> \u001b[39m\u001b[32m414\u001b[39m \u001b[43mStockPickler\u001b[49m\u001b[43m.\u001b[49m\u001b[43msave\u001b[49m\u001b[43m(\u001b[49m\u001b[38;5;28;43mself\u001b[39;49m\u001b[43m,\u001b[49m\u001b[43m \u001b[49m\u001b[43mobj\u001b[49m\u001b[43m,\u001b[49m\u001b[43m \u001b[49m\u001b[43msave_persistent_id\u001b[49m\u001b[43m)\u001b[49m\n",
      "\u001b[36mFile \u001b[39m\u001b[32m/workspace/.local/share/uv/python/cpython-3.11.12-linux-x86_64-gnu/lib/python3.11/pickle.py:578\u001b[39m, in \u001b[36m_Pickler.save\u001b[39m\u001b[34m(self, obj, save_persistent_id)\u001b[39m\n\u001b[32m    576\u001b[39m reduce = \u001b[38;5;28mgetattr\u001b[39m(obj, \u001b[33m\"\u001b[39m\u001b[33m__reduce_ex__\u001b[39m\u001b[33m\"\u001b[39m, \u001b[38;5;28;01mNone\u001b[39;00m)\n\u001b[32m    577\u001b[39m \u001b[38;5;28;01mif\u001b[39;00m reduce \u001b[38;5;129;01mis\u001b[39;00m \u001b[38;5;129;01mnot\u001b[39;00m \u001b[38;5;28;01mNone\u001b[39;00m:\n\u001b[32m--> \u001b[39m\u001b[32m578\u001b[39m     rv = reduce(\u001b[38;5;28mself\u001b[39m.proto)\n\u001b[32m    579\u001b[39m \u001b[38;5;28;01melse\u001b[39;00m:\n\u001b[32m    580\u001b[39m     reduce = \u001b[38;5;28mgetattr\u001b[39m(obj, \u001b[33m\"\u001b[39m\u001b[33m__reduce__\u001b[39m\u001b[33m\"\u001b[39m, \u001b[38;5;28;01mNone\u001b[39;00m)\n",
      "\u001b[31mTypeError\u001b[39m: cannot pickle 'SSLContext' object"
     ]
    }
   ],
   "source": []
  },
  {
   "cell_type": "code",
   "execution_count": null,
   "metadata": {},
   "outputs": [],
   "source": []
  },
  {
   "cell_type": "code",
   "execution_count": 2,
   "metadata": {},
   "outputs": [],
   "source": [
    "import reasoning_gym as rg"
   ]
  },
  {
   "cell_type": "code",
   "execution_count": 4,
   "metadata": {},
   "outputs": [
    {
     "data": {
      "text/plain": [
       "<reasoning_gym.arithmetic.leg_counting.LegCountingDataset at 0x7af9757eeb10>"
      ]
     },
     "execution_count": 4,
     "metadata": {},
     "output_type": "execute_result"
    }
   ],
   "source": [
    "data = rg.create_dataset('leg_counting', size=1000, seed=42)\n",
    "data"
   ]
  },
  {
   "cell_type": "code",
   "execution_count": 15,
   "metadata": {},
   "outputs": [
    {
     "ename": "AttributeError",
     "evalue": "'LegCountingDataset' object has no attribute '_current_idx'",
     "output_type": "error",
     "traceback": [
      "\u001b[31m---------------------------------------------------------------------------\u001b[39m",
      "\u001b[31mAttributeError\u001b[39m                            Traceback (most recent call last)",
      "\u001b[36mCell\u001b[39m\u001b[36m \u001b[39m\u001b[32mIn[15]\u001b[39m\u001b[32m, line 1\u001b[39m\n\u001b[32m----> \u001b[39m\u001b[32m1\u001b[39m x = \u001b[38;5;28;43mnext\u001b[39;49m\u001b[43m(\u001b[49m\u001b[43mdata\u001b[49m\u001b[43m)\u001b[49m\n\u001b[32m      2\u001b[39m x\n",
      "\u001b[36mFile \u001b[39m\u001b[32m/workspace/verifiers/.venv/lib/python3.11/site-packages/reasoning_gym/dataset.py:42\u001b[39m, in \u001b[36mProceduralDataset.__next__\u001b[39m\u001b[34m(self)\u001b[39m\n\u001b[32m     40\u001b[39m \u001b[38;5;28;01mdef\u001b[39;00m\u001b[38;5;250m \u001b[39m\u001b[34m__next__\u001b[39m(\u001b[38;5;28mself\u001b[39m) -> \u001b[38;5;28mdict\u001b[39m[\u001b[38;5;28mstr\u001b[39m, Any]:\n\u001b[32m     41\u001b[39m \u001b[38;5;250m    \u001b[39m\u001b[33;03m\"\"\"Get next item in iteration\"\"\"\u001b[39;00m\n\u001b[32m---> \u001b[39m\u001b[32m42\u001b[39m     \u001b[38;5;28;01mif\u001b[39;00m \u001b[38;5;28;43mself\u001b[39;49m\u001b[43m.\u001b[49m\u001b[43m_current_idx\u001b[49m >= \u001b[38;5;28mself\u001b[39m.size:\n\u001b[32m     43\u001b[39m         \u001b[38;5;28;01mraise\u001b[39;00m \u001b[38;5;167;01mStopIteration\u001b[39;00m\n\u001b[32m     44\u001b[39m     item = \u001b[38;5;28mself\u001b[39m[\u001b[38;5;28mself\u001b[39m._current_idx]\n",
      "\u001b[31mAttributeError\u001b[39m: 'LegCountingDataset' object has no attribute '_current_idx'"
     ]
    }
   ],
   "source": [
    "x = next(data)\n",
    "x"
   ]
  },
  {
   "cell_type": "code",
   "execution_count": 21,
   "metadata": {},
   "outputs": [
    {
     "data": {
      "text/plain": [
       "{'prompt': 'Your task is to count how many legs there are in total when given a list of animals.\\n\\nNow, how many legs are there in total if you have 3 sea slugs, 12 deers, 2 giraffes, 11 elephants?\\n',\n",
       " 'answer': 0,\n",
       " 'task': 'leg_counting'}"
      ]
     },
     "execution_count": 21,
     "metadata": {},
     "output_type": "execute_result"
    }
   ],
   "source": [
    "dataset[0]"
   ]
  },
  {
   "cell_type": "code",
   "execution_count": 23,
   "metadata": {},
   "outputs": [
    {
     "data": {
      "text/plain": [
       "{'question': 'Your task is to count how many legs there are in total when given a list of animals.\\n\\nNow, how many legs are there in total if you have 3 sea slugs, 12 deers, 2 giraffes, 11 elephants?\\n',\n",
       " 'answer': '100',\n",
       " 'metadata': {'source_dataset': 'leg_counting',\n",
       "  'source_index': 0,\n",
       "  'animals': {'sea slug': 3, 'deer': 12, 'giraffe': 2, 'elephant': 11},\n",
       "  'num_animals': 4,\n",
       "  'total_legs': 100,\n",
       "  'difficulty': {'num_animals': (3, 10), 'num_instances': (1, 15)}}}"
      ]
     },
     "execution_count": 23,
     "metadata": {},
     "output_type": "execute_result"
    }
   ],
   "source": [
    "data[0]"
   ]
  },
  {
   "cell_type": "code",
   "execution_count": 25,
   "metadata": {},
   "outputs": [
    {
     "data": {
      "text/plain": [
       "1.0"
      ]
     },
     "execution_count": 25,
     "metadata": {},
     "output_type": "execute_result"
    }
   ],
   "source": [
    "data.score_answer(answer=str(100), entry=data[0])"
   ]
  },
  {
   "cell_type": "code",
   "execution_count": 20,
   "metadata": {},
   "outputs": [
    {
     "name": "stdout",
     "output_type": "stream",
     "text": [
      "{'question': 'Your task is to count how many legs there are in total when given a list of animals.\\n\\nNow, how many legs are there in total if you have 3 sea slugs, 12 deers, 2 giraffes, 11 elephants?\\n', 'answer': '100', 'metadata': {'source_dataset': 'leg_counting', 'source_index': 0, 'animals': {'sea slug': 3, 'deer': 12, 'giraffe': 2, 'elephant': 11}, 'num_animals': 4, 'total_legs': 100, 'difficulty': {'num_animals': (3, 10), 'num_instances': (1, 15)}}}\n",
      "{'question': 'Your task is to count how many legs there are in total when given a list of animals.\\n\\nNow, how many legs are there in total if you have 6 sheeps, 11 dogs, 12 praying mantiss?\\n', 'answer': '140', 'metadata': {'source_dataset': 'leg_counting', 'source_index': 1, 'animals': {'sheep': 6, 'dog': 11, 'praying mantis': 12}, 'num_animals': 3, 'total_legs': 140, 'difficulty': {'num_animals': (3, 10), 'num_instances': (1, 15)}}}\n",
      "{'question': 'Your task is to count how many legs there are in total when given a list of animals.\\n\\nNow, how many legs are there in total if you have 2 crabs, 10 lobsters, 1 human, 2 cows, 3 bees, 13 elephants, 9 dogs, 12 snakes, 5 shrimps?\\n', 'answer': '286', 'metadata': {'source_dataset': 'leg_counting', 'source_index': 2, 'animals': {'crab': 2, 'lobster': 10, 'human': 1, 'cow': 2, 'bee': 3, 'elephant': 13, 'dog': 9, 'snake': 12, 'shrimp': 5}, 'num_animals': 9, 'total_legs': 286, 'difficulty': {'num_animals': (3, 10), 'num_instances': (1, 15)}}}\n",
      "{'question': 'Your task is to count how many legs there are in total when given a list of animals.\\n\\nNow, how many legs are there in total if you have 2 grasshoppers, 8 spiders, 1 tiger, 2 chickens, 5 starfishs, 13 ants, 2 snakes?\\n', 'answer': '187', 'metadata': {'source_dataset': 'leg_counting', 'source_index': 3, 'animals': {'grasshopper': 2, 'spider': 8, 'tiger': 1, 'chicken': 2, 'starfish': 5, 'ant': 13, 'snake': 2}, 'num_animals': 7, 'total_legs': 187, 'difficulty': {'num_animals': (3, 10), 'num_instances': (1, 15)}}}\n",
      "{'question': 'Your task is to count how many legs there are in total when given a list of animals.\\n\\nNow, how many legs are there in total if you have 3 wasps, 10 jellyfishs, 9 elephants, 13 crabs?\\n', 'answer': '184', 'metadata': {'source_dataset': 'leg_counting', 'source_index': 4, 'animals': {'wasp': 3, 'jellyfish': 10, 'elephant': 9, 'crab': 13}, 'num_animals': 4, 'total_legs': 184, 'difficulty': {'num_animals': (3, 10), 'num_instances': (1, 15)}}}\n",
      "{'question': 'Your task is to count how many legs there are in total when given a list of animals.\\n\\nNow, how many legs are there in total if you have 1 leech, 13 crickets, 7 praying mantiss, 11 ants, 1 tiger, 2 bees, 1 horse, 5 starfishs?\\n', 'answer': '231', 'metadata': {'source_dataset': 'leg_counting', 'source_index': 5, 'animals': {'leech': 1, 'cricket': 13, 'praying mantis': 7, 'ant': 11, 'tiger': 1, 'bee': 2, 'horse': 1, 'starfish': 5}, 'num_animals': 8, 'total_legs': 231, 'difficulty': {'num_animals': (3, 10), 'num_instances': (1, 15)}}}\n",
      "{'question': 'Your task is to count how many legs there are in total when given a list of animals.\\n\\nNow, how many legs are there in total if you have 7 ducks, 3 shrimps, 3 lobsters, 13 starfishs, 14 scorpions, 11 horses, 2 butterflys, 8 bees?\\n', 'answer': '355', 'metadata': {'source_dataset': 'leg_counting', 'source_index': 6, 'animals': {'duck': 7, 'shrimp': 3, 'lobster': 3, 'starfish': 13, 'scorpion': 14, 'horse': 11, 'butterfly': 2, 'bee': 8}, 'num_animals': 8, 'total_legs': 355, 'difficulty': {'num_animals': (3, 10), 'num_instances': (1, 15)}}}\n",
      "{'question': 'Your task is to count how many legs there are in total when given a list of animals.\\n\\nNow, how many legs are there in total if you have 13 butterflys, 9 grasshoppers, 9 humans, 13 insects?\\n', 'answer': '228', 'metadata': {'source_dataset': 'leg_counting', 'source_index': 7, 'animals': {'butterfly': 13, 'grasshopper': 9, 'human': 9, 'insect': 13}, 'num_animals': 4, 'total_legs': 228, 'difficulty': {'num_animals': (3, 10), 'num_instances': (1, 15)}}}\n",
      "{'question': 'Your task is to count how many legs there are in total when given a list of animals.\\n\\nNow, how many legs are there in total if you have 9 deers, 2 beetles, 15 giraffes, 3 fireflys, 6 ants, 14 chickens, 2 woodlouses, 6 cats, 6 humans, 4 scorpions?\\n', 'answer': '286', 'metadata': {'source_dataset': 'leg_counting', 'source_index': 8, 'animals': {'deer': 9, 'beetle': 2, 'giraffe': 15, 'firefly': 3, 'ant': 6, 'chicken': 14, 'woodlouse': 2, 'cat': 6, 'human': 6, 'scorpion': 4}, 'num_animals': 10, 'total_legs': 286, 'difficulty': {'num_animals': (3, 10), 'num_instances': (1, 15)}}}\n",
      "{'question': 'Your task is to count how many legs there are in total when given a list of animals.\\n\\nNow, how many legs are there in total if you have 15 scorpions, 14 shrimps, 7 cats, 9 giraffes, 8 elephants, 12 tigers?\\n', 'answer': '404', 'metadata': {'source_dataset': 'leg_counting', 'source_index': 9, 'animals': {'scorpion': 15, 'shrimp': 14, 'cat': 7, 'giraffe': 9, 'elephant': 8, 'tiger': 12}, 'num_animals': 6, 'total_legs': 404, 'difficulty': {'num_animals': (3, 10), 'num_instances': (1, 15)}}}\n"
     ]
    }
   ],
   "source": [
    "from datasets import Dataset\n",
    "isinstance(data, Dataset)\n",
    "\n",
    "for i in range(10):\n",
    "    print(data[i])\n",
    "\n",
    "import reasoning_gym as rg\n",
    "def rg_to_hf(data) -> Dataset:\n",
    "    rows = []\n",
    "    for i, x in enumerate(data):\n",
    "        row = {\n",
    "            'prompt': x['question'],\n",
    "            'answer': i,\n",
    "            'task': x['metadata']['source_dataset'],\n",
    "        }\n",
    "        rows.append(row)\n",
    "    return Dataset.from_list(rows)\n",
    "\n",
    "dataset = rg_to_hf(data)"
   ]
  },
  {
   "cell_type": "code",
   "execution_count": 9,
   "metadata": {},
   "outputs": [
    {
     "data": {
      "text/plain": [
       "'A conversation between User and Assistant. The user asks a question, and the Assistant solves it.\\nThe assistant first thinks about the reasoning process in the mind and then provides the user with the answer. The reasoning process and answer are enclosed within <think> </think> and <answer> </answer> tags, respectively, i.e., <think> reasoning process here </think>\\n<answer>answer here</answer>\\nDo not explain your reasoning inside the answer tags, provide only the final answer. When an example is provided, you should strictly follow the format of the output/answer in that example.\\n'"
      ]
     },
     "execution_count": 9,
     "metadata": {},
     "output_type": "execute_result"
    }
   ],
   "source": [
    "rg.utils.SYSTEM_PROMPTS[\"DeepSeekZero\"]"
   ]
  },
  {
   "cell_type": "code",
   "execution_count": 11,
   "metadata": {},
   "outputs": [],
   "source": [
    "import reasoning_gym as rg"
   ]
  },
  {
   "cell_type": "code",
   "execution_count": null,
   "metadata": {},
   "outputs": [],
   "source": []
  }
 ],
 "metadata": {
  "kernelspec": {
   "display_name": ".venv",
   "language": "python",
   "name": "python3"
  },
  "language_info": {
   "codemirror_mode": {
    "name": "ipython",
    "version": 3
   },
   "file_extension": ".py",
   "mimetype": "text/x-python",
   "name": "python",
   "nbconvert_exporter": "python",
   "pygments_lexer": "ipython3",
   "version": "3.11.12"
  }
 },
 "nbformat": 4,
 "nbformat_minor": 2
}
